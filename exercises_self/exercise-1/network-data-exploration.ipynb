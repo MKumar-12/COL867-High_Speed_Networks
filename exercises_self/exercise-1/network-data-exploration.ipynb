{
 "cells": [
  {
   "cell_type": "markdown",
   "metadata": {
    "tags": []
   },
   "source": [
    "# Understanding Network Data\n",
    "\n",
    "**Objective:** Today we will discuss the different types of protocols we observe at each layer within a packet. We will understand how to process and work with this data programatically."
   ]
  },
  {
   "cell_type": "markdown",
   "metadata": {},
   "source": [
    "## 5-Layer Network Model\n",
    "<img src='./images/network_layers.png'>Network Model</img>"
   ]
  },
  {
   "cell_type": "markdown",
   "metadata": {},
   "source": [
    "## The Hourglass (\"Thin-Waist\") Model in IP Networking\n",
    "\n",
    "The **\"thin-waist\"** or **\"hourglass\" model** is a powerful analogy used to conceptualize the architecture of the Internet Protocol (IP) networking stack. This model highlights how a broad range of applications and technologies converge on a narrow, unified middle layer (the \"waist\" of the hourglass) to ensure interoperability and scalability.\n",
    "\n",
    "\n",
    "<img src='./images/hourglass_model.png'>Network Model</img>\n",
    "\n",
    "### Structure of the Hourglass Model\n",
    "- **Applications (Top-most Layer):**\n",
    "    - Represents the Application Layer where there's a vast variety of applications such as web browsers, email clients, messaging apps, and more.\n",
    "    - Each application might use the Internet differently, but all depend on the layers below.\n",
    "- **Transport (Top Layer):**\n",
    "    - Just above the \"thin waist\" of the Internet Layer, lies the Transport Layer. This layer is integral to enabling end-to-end communication and carries responsibilities like:\n",
    "        - Segmentation and Reassembly: Breaking down large messages and reassembling them at the destination.\n",
    "        - Error Control: Ensuring reliable data transmission (e.g., TCP retransmits lost packets).\n",
    "        - Flow Control: Managing data transmission rates suitable for the receiver.\n",
    "        - Connection Management: Handling the setup, maintenance, and termination of connections in protocols like TCP.\n",
    "        - Port Numbers: Allowing multiple services on a device to simultaneously use the network.\n",
    "    - The Transport Layer ensures this data reaches the right destination in the desired form.\n",
    "- **IP (Middle Layer):**\n",
    "    - This is the crux of the hourglass: the Internet Layer, specifically IP (Internet Protocol).\n",
    "    - It acts as a universal glue that binds all parts of the Internet together, irrespective of the application above or the technology below.\n",
    "    - The benefits of this design include:\n",
    "        - Interoperability: Ensuring communication across devices and networks from different vendors and technologies.\n",
    "        - Flexibility: Facilitating the introduction of new technologies without disrupting the IP layer.\n",
    "        - Innovation: Allowing the creation of new applications or network tech without redesigning the Internet's core.\n",
    "- **Link (Bottom Layer):**\n",
    "    - Represents technologies that transmit IP packets: Ethernet, Wi-Fi, cellular networks, satellite links, fiber optics, and more.\n",
    "    - These technologies may vary in operation but all serve to transport IP packets from one device to another.\n",
    "\n",
    "This unified overview of the hourglass model along with the Transport Layer's role provides a comprehensive insight into the Internet protocol stack's modular design."
   ]
  },
  {
   "cell_type": "markdown",
   "metadata": {},
   "source": [
    "# Reading Network Data "
   ]
  },
  {
   "cell_type": "code",
   "execution_count": 27,
   "metadata": {},
   "outputs": [],
   "source": [
    "import dpkt       # Packet manipulation\n",
    "from scapy.all import *        # Another packet manipulation library\n",
    "import pandas as pd            # Pandas - Create and Manipulate DataFrames\n",
    "import numpy as np             # Math Stuff (don't worry only used for one line :] )\n",
    "import binascii                # Binary to Ascii \n",
    "import seaborn as sns          # Graphing Library\n",
    "import matplotlib.pyplot as plt\n",
    "sns.set(color_codes=True)"
   ]
  },
  {
   "cell_type": "markdown",
   "metadata": {
    "slideshow": {
     "slide_type": "slide"
    }
   },
   "source": [
    "## Reading in a PCAP\n",
    "We can read in packet capture programatically using the `scapy` library. The `rdpcap` function will return an object of type `scapy.plist.PacketList` which represents a list of packet objects that we can iterate over. We can receive a summary of the transport protocols used in this pcap."
   ]
  },
  {
   "cell_type": "code",
   "execution_count": 4,
   "metadata": {},
   "outputs": [],
   "source": [
    "pcap = rdpcap('data/speedtest.pcap')"
   ]
  },
  {
   "cell_type": "code",
   "execution_count": 5,
   "metadata": {},
   "outputs": [
    {
     "data": {
      "text/plain": [
       "scapy.plist.PacketList"
      ]
     },
     "execution_count": 5,
     "metadata": {},
     "output_type": "execute_result"
    }
   ],
   "source": [
    "type(pcap)"
   ]
  },
  {
   "cell_type": "code",
   "execution_count": 4,
   "metadata": {},
   "outputs": [
    {
     "name": "stdout",
     "output_type": "stream",
     "text": [
      "<speedtest.pcap: TCP:29028 UDP:7896 ICMP:0 Other:5>\n"
     ]
    }
   ],
   "source": [
    "print(pcap)"
   ]
  },
  {
   "cell_type": "code",
   "execution_count": 5,
   "metadata": {},
   "outputs": [
    {
     "name": "stdout",
     "output_type": "stream",
     "text": [
      "###[ Ethernet ]###\n",
      "  dst       = 00:00:5e:00:01:e1\n",
      "  src       = 5c:e9:1e:b3:8e:0e\n",
      "  type      = IPv4\n",
      "###[ IP ]###\n",
      "     version   = 4\n",
      "     ihl       = 5\n",
      "     tos       = 0x0\n",
      "     len       = 576\n",
      "     id        = 0\n",
      "     flags     = DF\n",
      "     frag      = 0\n",
      "     ttl       = 64\n",
      "     proto     = tcp\n",
      "     chksum    = 0xf25\n",
      "     src       = 10.194.128.144\n",
      "     dst       = 3.229.154.92\n",
      "     \\options   \\\n",
      "###[ TCP ]###\n",
      "        sport     = 53051\n",
      "        dport     = https\n",
      "        seq       = 2602046834\n",
      "        ack       = 54329897\n",
      "        dataofs   = 8\n",
      "        reserved  = 0\n",
      "        flags     = A\n",
      "        window    = 2055\n",
      "        chksum    = 0x183\n",
      "        urgptr    = 0\n",
      "        options   = [('NOP', None), ('NOP', None), ('Timestamp', (3279180802, 1418452974))]\n",
      "###[ Raw ]###\n",
      "           load      = b'\\x16\\x03\\x01\\x02v\\x01\\x00\\x02r\\x03\\x03\\x06\\x8a<C=a\\xf7\\x1b4\\xaeR\\x86\\x9eE\\x84\\xfdEh\\xf2\\xeb\\xf9*p|\\xdbB\\xb9\\x12h560 Bb\\xf5\\x1b\\x0b\\xd7\\xd6J\\xd8\\x18\\x01\\x1a7\\xc2\\xdaD\\x7f)\\x98\\xf5\\x89=\\xe2\\xfc\\x8b\\x0f\\xf4*\\xce\\xca\\xc1\\xcb\\x00 \\x9a\\x9a\\x13\\x01\\x13\\x02\\x13\\x03\\xc0+\\xc0/\\xc0,\\xc00\\xcc\\xa9\\xcc\\xa8\\xc0\\x13\\xc0\\x14\\x00\\x9c\\x00\\x9d\\x00/\\x005\\x01\\x00\\x02\\t\\x8a\\x8a\\x00\\x00Di\\x00\\x05\\x00\\x03\\x02h2\\x00\\x05\\x00\\x05\\x01\\x00\\x00\\x00\\x00\\x00\\x17\\x00\\x00\\x00\\r\\x00\\x12\\x00\\x10\\x04\\x03\\x08\\x04\\x04\\x01\\x05\\x03\\x08\\x05\\x05\\x01\\x08\\x06\\x06\\x01\\x00\\x00\\x00\\x0f\\x00\\r\\x00\\x00\\npiazza.com\\x00+\\x00\\x07\\x06\\x8a\\x8a\\x03\\x04\\x03\\x03\\x00\\n\\x00\\n\\x00\\x08**\\x00\\x1d\\x00\\x17\\x00\\x18\\x003\\x00+\\x00)**\\x00\\x01\\x00\\x00\\x1d\\x00 \\x85\\xfb\\xcb\\xa3=\\x07@\\xe4u\\xe8\\xda\\x87\\xc4\\t\\xef\\x90\\x83\\xec\\xa7\\x0e\"\\xbef#\\x0c\\xdeWVH\\xcd2w\\x00#\\x00i\\xdd\\xbf\\x16\\xd3\\xb9\\xe3I\\xe8\\xee\\xd7\\x88{\\xe7E\\xda\\x89\\xcf\\xee\\xf7\\x95|7;2o\\xa5\\x97\\xfb<\\xf4\\x8e\\xfd\\xa6\\xa4=\\x7f\\x17\\x1e}\\xc68\\x8bx|\\x91\\xc8\\x86\\xb6\\x80\"\\x12\\xcf\\x8b\\x92\\xf0\\xde\\x16\\xaa Li\\x8c\\x1c\\r_xp\\x9dE9L\\x04kU\\x83\\x00qQW,\\'\\x15\\xf1\\xc6\\xdf\\xcb \\xe2\\x01\\x968\\xc7\\x11\\x0cF\\xfe\\xcb\\x0c}\\xec\\xd7i\\xc7\\xaeg\\xfe\\r\\x00\\xda\\x00\\x00\\x01\\x00\\x01\\x98\\x00 \\xb4I\\x8en.\\x1a\\xf6\\xe6C\\x90\\xb6\\xe7\\x06%\\xf8\\xa6~\\x14\\xf81\\x17U\\xbcj5\\x84\\x9d\\x13@\\x1d\\xe1x\\x00\\xb0\\xdc\\xcb\\xcfV\\\\\\x12{\\xb1\\x91\\n\\xf1$\\xa8\\x8c\\xaa\\xd3%4\\xbc\"\\'c\\x8a\\x02\\r\\x1a\\xfe!A\\x8a\\xe8\\xbf\\xf8\\x1c\\x85&\\x95JK\\x90\\x00\\x01\\xc1\\xea\\xd6\\xa2\\x9a\\xf1\\xf0\\xb6\\x17\\xa1\\xed\\xa43\\x12A\\x95\\x8f\\xcf\\x10*\\xc7em\\xdb\\xcd\\xf98*\\xe9\\x053Z]`\\xa7\\xa6&t\\x8dD@b\\x8b\\xc4(\\x94\\xbf\\x863\\xbc\\x95\\x00\\xda\\xb8\\xb2\\xd1\\xef\\x05\\xbb\\xa4b\\nD.\\x1f\\x93\\x00\\xac7\\xab?\\xea*\\t'\n",
      "\n"
     ]
    }
   ],
   "source": [
    "sample_pkt = pcap[2446]\n",
    "sample_pkt.show()"
   ]
  },
  {
   "cell_type": "markdown",
   "metadata": {},
   "source": [
    "## Ethernet Layer"
   ]
  },
  {
   "cell_type": "markdown",
   "metadata": {},
   "source": [
    "### MAC Address\n",
    "A **MAC (Media Access Control)** address is a unique identifier assigned to network interfaces for communications on the physical network segment. It's essentially the \"physical address\" of a device on a local network, and it plays a pivotal role in the data link layer of the OSI model to help route packets of data on a local area network (LAN).\n",
    "\n",
    "#### Key Points:\n",
    "**Uniqueness:** Every network interface card (NIC) manufactured is typically given a unique MAC address, ensuring that every device on a local network can be uniquely identified by its MAC address.\n",
    "\n",
    "**Physical Addressing:** While IP addresses operate at the network layer to route packets over wide networks, MAC addresses function at the data link layer to deliver packets within local networks.\n",
    "\n",
    "**Immutable:** In theory, a MAC address is permanent, burned into the hardware. However, many modern NICs and software interfaces allow for MAC address modification, known as MAC spoofing.\n",
    "\n",
    "**Format:**\n",
    "A MAC address is 48 bits long and is usually represented as six groups of two hexadecimal digits, separated by colons (:) or hyphens (-)."
   ]
  },
  {
   "cell_type": "markdown",
   "metadata": {},
   "source": [
    "```\n",
    " 0                   1                   2                   3  \n",
    " 0 1 2 3 4 5 6 7 8 9 0 1 2 3 4 5 6 7 8 9 0 1 2 3 4 5 6 7 8 9 0 1 \n",
    "+-+-+-+-+-+-+-+-+-+-+-+-+-+-+-+-+-+-+-+-+-+-+-+-+-+-+-+-+-+-+-+-+\n",
    "|                                                               |\n",
    "|                     Destination MAC Address                    |\n",
    "|                                                               |\n",
    "+-+-+-+-+-+-+-+-+-+-+-+-+-+-+-+-+-+-+-+-+-+-+-+-+-+-+-+-+-+-+-+-+\n",
    "|                                                               |\n",
    "|                       Source MAC Address                       |\n",
    "|                                                               |\n",
    "+-+-+-+-+-+-+-+-+-+-+-+-+-+-+-+-+-+-+-+-+-+-+-+-+-+-+-+-+-+-+-+-+\n",
    "|           EtherType          |                               |\n",
    "+-+-+-+-+-+-+-+-+-+-+-+-+-+-+-+-+                               +\n",
    "|                                                               |\n",
    "|                           Payload                             |\n",
    "|                                                               |\n",
    "|                                                               |\n",
    "+-+-+-+-+-+-+-+-+-+-+-+-+-+-+-+-+-+-+-+-+-+-+-+-+-+-+-+-+-+-+-+-+\n",
    "|   Frame Check Sequence (FCS)   |\n",
    "+-+-+-+-+-+-+-+-+-+-+-+-+-+-+-+-+\n",
    "\n",
    "```\n",
    "**Destination MAC Address (6 bytes):** This is the MAC address of the destination network interface card (NIC). The data will be read by the device that matches this address.\n",
    "\n",
    "**Source MAC Address (6 bytes):** The MAC address of the NIC that sent the frame.  \n",
    "\n",
    "**EtherType (2 bytes):** This field indicates which protocol is encapsulated in the payload of the frame. For instance, an EtherType value of 0x0800 indicates that the payload is an IPv4 packet.  \n",
    "\n",
    "**Payload (46-1500 bytes):** This contains the encapsulated protocol data, like an IP packet or ARP message. The minimum length is 46 bytes, and the maximum is 1500 bytes. If a smaller message needs to be sent, padding is used to reach the 46-byte minimum.  \n",
    "\n",
    "**Frame Check Sequence (FCS) (4 bytes):** This is a checksum value used to detect errors in the transmitted frame. It's generated by the source NIC and verified by the destination NIC.  \n",
    "\n",
    "This diagram provides a simplified view. Ethernet standards and variations (like VLAN-tagged frames) can introduce additional fields or variations, but the Ethernet II frame format is foundational and widely recognized."
   ]
  },
  {
   "cell_type": "code",
   "execution_count": 6,
   "metadata": {},
   "outputs": [],
   "source": [
    "# Ethernet Layer is the first layer we read\n",
    "ethernet_frame = sample_pkt"
   ]
  },
  {
   "cell_type": "code",
   "execution_count": 7,
   "metadata": {},
   "outputs": [
    {
     "data": {
      "text/plain": [
       "scapy.layers.l2.Ether"
      ]
     },
     "execution_count": 7,
     "metadata": {},
     "output_type": "execute_result"
    }
   ],
   "source": [
    "type(ethernet_frame)"
   ]
  },
  {
   "cell_type": "code",
   "execution_count": 8,
   "metadata": {},
   "outputs": [
    {
     "name": "stdout",
     "output_type": "stream",
     "text": [
      "1704286203.174895\n"
     ]
    }
   ],
   "source": [
    "# Timestamp saved for packet on capture device\n",
    "# Epoch time\n",
    "print(ethernet_frame.time)"
   ]
  },
  {
   "cell_type": "code",
   "execution_count": 9,
   "metadata": {},
   "outputs": [
    {
     "name": "stdout",
     "output_type": "stream",
     "text": [
      "Actual timestamp: 2024-01-03 18:20:03\n"
     ]
    }
   ],
   "source": [
    "from datetime import datetime\n",
    "epoch_time = float(ethernet_frame.time)\n",
    "readable_time = datetime.fromtimestamp(epoch_time).strftime('%Y-%m-%d %H:%M:%S')\n",
    "\n",
    "print(f\"Actual timestamp: {readable_time}\")"
   ]
  },
  {
   "cell_type": "code",
   "execution_count": 10,
   "metadata": {},
   "outputs": [
    {
     "name": "stdout",
     "output_type": "stream",
     "text": [
      "5c:e9:1e:b3:8e:0e ==> 00:00:5e:00:01:e1\n"
     ]
    }
   ],
   "source": [
    "print(ethernet_frame.src + \" ==> \" + ethernet_frame.dst) "
   ]
  },
  {
   "cell_type": "markdown",
   "metadata": {},
   "source": [
    "## IP Layer"
   ]
  },
  {
   "cell_type": "markdown",
   "metadata": {},
   "source": [
    "```\n",
    " 0                   1                   2                   3   \n",
    " 0 1 2 3 4 5 6 7 8 9 0 1 2 3 4 5 6 7 8 9 0 1 2 3 4 5 6 7 8 9 0 1 \n",
    "+-+-+-+-+-+-+-+-+-+-+-+-+-+-+-+-+-+-+-+-+-+-+-+-+-+-+-+-+-+-+-+-+\n",
    "|Version|  IHL  |Type of Service|          Total Length         |\n",
    "+-+-+-+-+-+-+-+-+-+-+-+-+-+-+-+-+-+-+-+-+-+-+-+-+-+-+-+-+-+-+-+-+\n",
    "|         Identification        |Flags|      Fragment Offset    |\n",
    "+-+-+-+-+-+-+-+-+-+-+-+-+-+-+-+-+-+-+-+-+-+-+-+-+-+-+-+-+-+-+-+-+\n",
    "|  Time to Live |    Protocol   |         Header Checksum       |\n",
    "+-+-+-+-+-+-+-+-+-+-+-+-+-+-+-+-+-+-+-+-+-+-+-+-+-+-+-+-+-+-+-+-+\n",
    "|                       Source Address                          |\n",
    "+-+-+-+-+-+-+-+-+-+-+-+-+-+-+-+-+-+-+-+-+-+-+-+-+-+-+-+-+-+-+-+-+\n",
    "|                    Destination Address                        |\n",
    "+-+-+-+-+-+-+-+-+-+-+-+-+-+-+-+-+-+-+-+-+-+-+-+-+-+-+-+-+-+-+-+-+\n",
    "|                    Options                    |    Padding    |\n",
    "+-+-+-+-+-+-+-+-+-+-+-+-+-+-+-+-+-+-+-+-+-+-+-+-+-+-+-+-+-+-+-+-+\n",
    "```\n",
    "**Version (4 bits):** Specifies the version of the IP protocol. For IPv4, this is always set to 4.\n",
    "\n",
    "**IHL (Internet Header Length, 4 bits):** Indicates the header length in 32-bit words. The minimum value for this field is 5, which represents a header length of 20 bytes.\n",
    "\n",
    "**Type of Service (8 bits):** Specifies how the datagram should be handled, such as its priority.\n",
    "\n",
    "**Total Length (16 bits):** Indicates the entire packet size, including header and data, in bytes.\n",
    "\n",
    "**Identification (16 bits):** Helps in assembling the fragments of a datagram.\n",
    "\n",
    "**Flags (3 bits):** Control or identify fragments. There are three flags: Reserved (always zero), Don't Fragment (DF), and More Fragments (MF).\n",
    "\n",
    "**Fragment Offset (13 bits):** Indicates where in the datagram this fragment belongs.\n",
    "\n",
    "**Time to Live (TTL, 8 bits):** Specifies the time limit in seconds or hops for the datagram before it's discarded.\n",
    "\n",
    "**Protocol (8 bits):** Defines the protocol used in the data portion of the IP datagram.\n",
    "\n",
    "**Header Checksum (16 bits):** Used for error-checking the header.\n",
    "\n",
    "**Source Address (32 bits):** The IPv4 address of the source node.\n",
    "\n",
    "**Destination Address (32 bits):** The IPv4 address of the destination node.\n",
    "\n",
    "**Options (variable):** Allows for various options, such as security. Its presence is determined by the IHL field.\n",
    "\n",
    "**Padding (variable):** Ensures the header is a multiple of 32 bits in length. The length of the padding is determined by the IHL field."
   ]
  },
  {
   "cell_type": "code",
   "execution_count": 11,
   "metadata": {},
   "outputs": [],
   "source": [
    "# IP Layer is the next layer we read\n",
    "ethernet_frame = sample_pkt\n",
    "ip_pkt = ethernet_frame.payload"
   ]
  },
  {
   "cell_type": "code",
   "execution_count": 12,
   "metadata": {},
   "outputs": [
    {
     "name": "stdout",
     "output_type": "stream",
     "text": [
      "576\n"
     ]
    }
   ],
   "source": [
    "# Length of the IP payload\n",
    "print(ip_pkt.len)"
   ]
  },
  {
   "cell_type": "code",
   "execution_count": 13,
   "metadata": {},
   "outputs": [
    {
     "name": "stdout",
     "output_type": "stream",
     "text": [
      "10.194.128.144 ==> 3.229.154.92\n"
     ]
    }
   ],
   "source": [
    "# Incoming packet\n",
    "print(ip_pkt.src + \" ==> \" + ip_pkt.dst) "
   ]
  },
  {
   "cell_type": "markdown",
   "metadata": {},
   "source": [
    "Local Subnets **(PRIVATE ADDRESSES)**\n",
    "1. **10.0.0.0/8**       (10.0.0.0 - 10.255.255.255)   \n",
    "2. **172.16.0.0/12**    (172.16.0.0 - 172.31.255.255)   \n",
    "3. **192.168.0.0/16**   (192.168.0.0 - 192.168.255.255)"
   ]
  },
  {
   "cell_type": "code",
   "execution_count": 14,
   "metadata": {},
   "outputs": [
    {
     "name": "stderr",
     "output_type": "stream",
     "text": [
      "'whois' is not recognized as an internal or external command,\n",
      "operable program or batch file.\n"
     ]
    }
   ],
   "source": [
    "! whois 3.229.154.92\n"
   ]
  },
  {
   "cell_type": "code",
   "execution_count": 15,
   "metadata": {},
   "outputs": [
    {
     "name": "stdout",
     "output_type": "stream",
     "text": [
      "Collecting python-whois"
     ]
    },
    {
     "name": "stderr",
     "output_type": "stream",
     "text": [
      "\n"
     ]
    },
    {
     "name": "stdout",
     "output_type": "stream",
     "text": [
      "Note: you may need to restart the kernel to use updated packages."
     ]
    },
    {
     "name": "stderr",
     "output_type": "stream",
     "text": [
      "[notice] A new release of pip is available: 24.2 -> 24.3.1"
     ]
    },
    {
     "name": "stdout",
     "output_type": "stream",
     "text": [
      "\n",
      "\n"
     ]
    },
    {
     "name": "stderr",
     "output_type": "stream",
     "text": [
      "\n"
     ]
    },
    {
     "name": "stdout",
     "output_type": "stream",
     "text": [
      "  Downloading python_whois-0.9.5-py3-none-any.whl.metadata (2.6 kB)"
     ]
    },
    {
     "name": "stderr",
     "output_type": "stream",
     "text": [
      "[notice] To update, run: python.exe -m pip install --upgrade pip"
     ]
    },
    {
     "name": "stdout",
     "output_type": "stream",
     "text": [
      "\n"
     ]
    },
    {
     "name": "stderr",
     "output_type": "stream",
     "text": [
      "\n"
     ]
    },
    {
     "name": "stdout",
     "output_type": "stream",
     "text": [
      "Requirement already satisfied: python-dateutil in c:\\users\\manis\\onedrive\\desktop\\hsn_sem4\\hsn\\lib\\site-packages (from python-whois) (2.9.0.post0)\n",
      "Requirement already satisfied: six>=1.5 in c:\\users\\manis\\onedrive\\desktop\\hsn_sem4\\hsn\\lib\\site-packages (from python-dateutil->python-whois) (1.17.0)"
     ]
    },
    {
     "name": "stdout",
     "output_type": "stream",
     "text": [
      "\n",
      "Downloading python_whois-0.9.5-py3-none-any.whl (104 kB)\n",
      "Installing collected packages: python-whois\n",
      "Successfully installed python-whois-0.9.5\n"
     ]
    }
   ],
   "source": [
    "! pip install python-whois"
   ]
  },
  {
   "cell_type": "code",
   "execution_count": 16,
   "metadata": {},
   "outputs": [
    {
     "name": "stdout",
     "output_type": "stream",
     "text": [
      "{\n",
      "  \"domain_name\": \"AMAZONAWS.COM\",\n",
      "  \"registrar\": \"MarkMonitor, Inc.\",\n",
      "  \"registrar_url\": \"http://www.markmonitor.com\",\n",
      "  \"reseller\": null,\n",
      "  \"whois_server\": \"whois.markmonitor.com\",\n",
      "  \"referral_url\": null,\n",
      "  \"updated_date\": [\n",
      "    \"2024-01-29 18:09:26\",\n",
      "    \"2024-08-02 02:17:33+00:00\"\n",
      "  ],\n",
      "  \"creation_date\": [\n",
      "    \"2005-08-18 02:10:45\",\n",
      "    \"2005-08-18 02:10:45+00:00\"\n",
      "  ],\n",
      "  \"expiration_date\": [\n",
      "    \"2027-01-16 04:59:59\",\n",
      "    \"2027-01-16 00:00:00+00:00\"\n",
      "  ],\n",
      "  \"name_servers\": [\n",
      "    \"NS-1321.AWSDNS-37.ORG\",\n",
      "    \"NS-1670.AWSDNS-16.CO.UK\",\n",
      "    \"NS-27.AWSDNS-03.COM\",\n",
      "    \"NS-967.AWSDNS-56.NET\"\n",
      "  ],\n",
      "  \"status\": [\n",
      "    \"clientDeleteProhibited https://icann.org/epp#clientDeleteProhibited\",\n",
      "    \"clientTransferProhibited https://icann.org/epp#clientTransferProhibited\",\n",
      "    \"clientUpdateProhibited https://icann.org/epp#clientUpdateProhibited\",\n",
      "    \"serverDeleteProhibited https://icann.org/epp#serverDeleteProhibited\",\n",
      "    \"serverTransferProhibited https://icann.org/epp#serverTransferProhibited\",\n",
      "    \"serverUpdateProhibited https://icann.org/epp#serverUpdateProhibited\",\n",
      "    \"clientUpdateProhibited (https://www.icann.org/epp#clientUpdateProhibited)\",\n",
      "    \"clientTransferProhibited (https://www.icann.org/epp#clientTransferProhibited)\",\n",
      "    \"clientDeleteProhibited (https://www.icann.org/epp#clientDeleteProhibited)\",\n",
      "    \"serverUpdateProhibited (https://www.icann.org/epp#serverUpdateProhibited)\",\n",
      "    \"serverTransferProhibited (https://www.icann.org/epp#serverTransferProhibited)\",\n",
      "    \"serverDeleteProhibited (https://www.icann.org/epp#serverDeleteProhibited)\"\n",
      "  ],\n",
      "  \"emails\": [\n",
      "    \"abusecomplaints@markmonitor.com\",\n",
      "    \"hostmaster@amazon.com\",\n",
      "    \"whoisrequest@markmonitor.com\"\n",
      "  ],\n",
      "  \"dnssec\": \"unsigned\",\n",
      "  \"name\": \"Legal Department\",\n",
      "  \"org\": \"Amazon.com, Inc.\",\n",
      "  \"address\": \"PO BOX 81226\",\n",
      "  \"city\": \"Seattle\",\n",
      "  \"state\": \"WA\",\n",
      "  \"registrant_postal_code\": \"98108-1226\",\n",
      "  \"country\": \"US\"\n",
      "}\n"
     ]
    }
   ],
   "source": [
    "import whois\n",
    "\n",
    "domain_info = whois.whois(\"3.229.154.92\")\n",
    "print(domain_info)"
   ]
  },
  {
   "cell_type": "markdown",
   "metadata": {},
   "source": [
    "## Transport Layer"
   ]
  },
  {
   "cell_type": "markdown",
   "metadata": {},
   "source": [
    "### TCP"
   ]
  },
  {
   "cell_type": "markdown",
   "metadata": {},
   "source": [
    "```\n",
    "0                   1                   2                   3\n",
    "0 1 2 3 4 5 6 7 8 9 0 1 2 3 4 5 6 7 8 9 0 1 2 3 4 5 6 7 8 9 0 1\n",
    "+-+-+-+-+-+-+-+-+-+-+-+-+-+-+-+-+-+-+-+-+-+-+-+-+-+-+-+-+-+-+-+-+\n",
    "|          Source Port          |       Destination Port        |\n",
    "+-+-+-+-+-+-+-+-+-+-+-+-+-+-+-+-+-+-+-+-+-+-+-+-+-+-+-+-+-+-+-+-+\n",
    "|                        Sequence Number                        |\n",
    "+-+-+-+-+-+-+-+-+-+-+-+-+-+-+-+-+-+-+-+-+-+-+-+-+-+-+-+-+-+-+-+-+\n",
    "|                    Acknowledgment Number                      |\n",
    "+-+-+-+-+-+-+-+-+-+-+-+-+-+-+-+-+-+-+-+-+-+-+-+-+-+-+-+-+-+-+-+-+\n",
    "|  Data |           |U|A|P|R|S|F|                               |\n",
    "| Offset| Reserved  |R|C|S|S|Y|I|            Window             |\n",
    "|       |           |G|K|H|T|N|N|                               |\n",
    "+-+-+-+-+-+-+-+-+-+-+-+-+-+-+-+-+-+-+-+-+-+-+-+-+-+-+-+-+-+-+-+-+\n",
    "|           Checksum            |         Urgent Pointer        |\n",
    "+-+-+-+-+-+-+-+-+-+-+-+-+-+-+-+-+-+-+-+-+-+-+-+-+-+-+-+-+-+-+-+-+\n",
    "|                    Options                    |    Padding    |\n",
    "+-+-+-+-+-+-+-+-+-+-+-+-+-+-+-+-+-+-+-+-+-+-+-+-+-+-+-+-+-+-+-+-+\n",
    "|                             data                              |\n",
    "+-+-+-+-+-+-+-+-+-+-+-+-+-+-+-+-+-+-+-+-+-+-+-+-+-+-+-+-+-+-+-+-+\n",
    "02 04 05 a0 01 03 03 05 01 01 08 0a 1d 74 65 c5 00 00 00 00 04 02 00 00\n",
    "```\n",
    "**Source Port (16 bits):** Specifies the source port number.\n",
    "\n",
    "**Destination Port (16 bits):** Specifies the destination port number.\n",
    "\n",
    "**Sequence Number (32 bits):** If the SYN flag is set, this is the initial sequence number. Otherwise, it's the accumulated sequence number of the first data byte in this segment (with the first byte during the connection setup counting as 1).\n",
    "\n",
    "**Acknowledgment Number (32 bits):** If the ACK flag is set, this field contains the value of the next sequence number the sender of the segment is expecting to receive.\n",
    "\n",
    "**Data Offset (4 bits):** Specifies the size of the TCP header in 32-bit words. Also known as the header length field.\n",
    "\n",
    "**Reserved (3 bits):** Reserved for future use and should be set to zero.\n",
    "\n",
    "**Flags (9 bits):**\n",
    "\n",
    "- URG (1 bit): Urgent pointer field significant.\n",
    "- ACK (1 bit): Acknowledgment field significant.\n",
    "- PSH (1 bit): Push Function.\n",
    "- RST (1 bit): Reset the connection.\n",
    "- SYN (1 bit): Synchronize sequence numbers.\n",
    "- FIN (1 bit): No more data from the sender.\n",
    "\n",
    "**Window (16 bits):** Specifies the size of the sender's receive window (or buffer space) that is available.\n",
    "\n",
    "**Checksum (16 bits):** Used for error-checking of the header and data. It checks whether the data has been transmitted accurately.\n",
    "\n",
    "**Urgent Pointer (16 bits):** If the URG flag is set, then this 16-bit field is an offset from the sequence number indicating the last urgent data byte.\n",
    "\n",
    "**Options (variable):** The length of this field is determined by the data offset field. This field could be zero or more 32-bit words.\n",
    "\n",
    "**Padding (variable):** Ensures the header is a multiple of 32 bits in length. The length of the padding is determined by the data offset field.\n",
    "\n",
    "**Data (variable):** The actual data transmitted by the TCP segment. The length of this field can be determined by the total length minus the data offset value.\n",
    "\n",
    "This header format provides an overview of how TCP segments are structured. Remember, TCP is a connection-oriented protocol, ensuring reliable, ordered, and error-checked delivery of a stream of octets between applications running on hosts in an IP network."
   ]
  },
  {
   "cell_type": "code",
   "execution_count": 17,
   "metadata": {},
   "outputs": [
    {
     "data": {
      "text/plain": [
       "scapy.layers.inet.TCP"
      ]
     },
     "execution_count": 17,
     "metadata": {},
     "output_type": "execute_result"
    }
   ],
   "source": [
    "transport_segment = ip_pkt.payload\n",
    "type(transport_segment)"
   ]
  },
  {
   "cell_type": "code",
   "execution_count": 18,
   "metadata": {},
   "outputs": [
    {
     "name": "stdout",
     "output_type": "stream",
     "text": [
      "###[ TCP ]###\n",
      "  sport     = 53051\n",
      "  dport     = https\n",
      "  seq       = 2602046834\n",
      "  ack       = 54329897\n",
      "  dataofs   = 8\n",
      "  reserved  = 0\n",
      "  flags     = A\n",
      "  window    = 2055\n",
      "  chksum    = 0x183\n",
      "  urgptr    = 0\n",
      "  options   = [('NOP', None), ('NOP', None), ('Timestamp', (3279180802, 1418452974))]\n",
      "###[ Raw ]###\n",
      "     load      = b'\\x16\\x03\\x01\\x02v\\x01\\x00\\x02r\\x03\\x03\\x06\\x8a<C=a\\xf7\\x1b4\\xaeR\\x86\\x9eE\\x84\\xfdEh\\xf2\\xeb\\xf9*p|\\xdbB\\xb9\\x12h560 Bb\\xf5\\x1b\\x0b\\xd7\\xd6J\\xd8\\x18\\x01\\x1a7\\xc2\\xdaD\\x7f)\\x98\\xf5\\x89=\\xe2\\xfc\\x8b\\x0f\\xf4*\\xce\\xca\\xc1\\xcb\\x00 \\x9a\\x9a\\x13\\x01\\x13\\x02\\x13\\x03\\xc0+\\xc0/\\xc0,\\xc00\\xcc\\xa9\\xcc\\xa8\\xc0\\x13\\xc0\\x14\\x00\\x9c\\x00\\x9d\\x00/\\x005\\x01\\x00\\x02\\t\\x8a\\x8a\\x00\\x00Di\\x00\\x05\\x00\\x03\\x02h2\\x00\\x05\\x00\\x05\\x01\\x00\\x00\\x00\\x00\\x00\\x17\\x00\\x00\\x00\\r\\x00\\x12\\x00\\x10\\x04\\x03\\x08\\x04\\x04\\x01\\x05\\x03\\x08\\x05\\x05\\x01\\x08\\x06\\x06\\x01\\x00\\x00\\x00\\x0f\\x00\\r\\x00\\x00\\npiazza.com\\x00+\\x00\\x07\\x06\\x8a\\x8a\\x03\\x04\\x03\\x03\\x00\\n\\x00\\n\\x00\\x08**\\x00\\x1d\\x00\\x17\\x00\\x18\\x003\\x00+\\x00)**\\x00\\x01\\x00\\x00\\x1d\\x00 \\x85\\xfb\\xcb\\xa3=\\x07@\\xe4u\\xe8\\xda\\x87\\xc4\\t\\xef\\x90\\x83\\xec\\xa7\\x0e\"\\xbef#\\x0c\\xdeWVH\\xcd2w\\x00#\\x00i\\xdd\\xbf\\x16\\xd3\\xb9\\xe3I\\xe8\\xee\\xd7\\x88{\\xe7E\\xda\\x89\\xcf\\xee\\xf7\\x95|7;2o\\xa5\\x97\\xfb<\\xf4\\x8e\\xfd\\xa6\\xa4=\\x7f\\x17\\x1e}\\xc68\\x8bx|\\x91\\xc8\\x86\\xb6\\x80\"\\x12\\xcf\\x8b\\x92\\xf0\\xde\\x16\\xaa Li\\x8c\\x1c\\r_xp\\x9dE9L\\x04kU\\x83\\x00qQW,\\'\\x15\\xf1\\xc6\\xdf\\xcb \\xe2\\x01\\x968\\xc7\\x11\\x0cF\\xfe\\xcb\\x0c}\\xec\\xd7i\\xc7\\xaeg\\xfe\\r\\x00\\xda\\x00\\x00\\x01\\x00\\x01\\x98\\x00 \\xb4I\\x8en.\\x1a\\xf6\\xe6C\\x90\\xb6\\xe7\\x06%\\xf8\\xa6~\\x14\\xf81\\x17U\\xbcj5\\x84\\x9d\\x13@\\x1d\\xe1x\\x00\\xb0\\xdc\\xcb\\xcfV\\\\\\x12{\\xb1\\x91\\n\\xf1$\\xa8\\x8c\\xaa\\xd3%4\\xbc\"\\'c\\x8a\\x02\\r\\x1a\\xfe!A\\x8a\\xe8\\xbf\\xf8\\x1c\\x85&\\x95JK\\x90\\x00\\x01\\xc1\\xea\\xd6\\xa2\\x9a\\xf1\\xf0\\xb6\\x17\\xa1\\xed\\xa43\\x12A\\x95\\x8f\\xcf\\x10*\\xc7em\\xdb\\xcd\\xf98*\\xe9\\x053Z]`\\xa7\\xa6&t\\x8dD@b\\x8b\\xc4(\\x94\\xbf\\x863\\xbc\\x95\\x00\\xda\\xb8\\xb2\\xd1\\xef\\x05\\xbb\\xa4b\\nD.\\x1f\\x93\\x00\\xac7\\xab?\\xea*\\t'\n",
      "\n"
     ]
    }
   ],
   "source": [
    "transport_segment.show()"
   ]
  },
  {
   "cell_type": "markdown",
   "metadata": {},
   "source": [
    "### UDP"
   ]
  },
  {
   "cell_type": "markdown",
   "metadata": {},
   "source": [
    "```\n",
    " 0                   1                   2                   3   \n",
    " 0 1 2 3 4 5 6 7 8 9 0 1 2 3 4 5 6 7 8 9 0 1 2 3 4 5 6 7 8 9 0 1 \n",
    "+-+-+-+-+-+-+-+-+-+-+-+-+-+-+-+-+-+-+-+-+-+-+-+-+-+-+-+-+-+-+-+-+\n",
    "|     Source Port (16 bits)     |  Destination Port (16 bits)   |\n",
    "+-+-+-+-+-+-+-+-+-+-+-+-+-+-+-+-+-+-+-+-+-+-+-+-+-+-+-+-+-+-+-+-+\n",
    "|           Length (16 bits)    |       Checksum (16 bits)      |\n",
    "+-+-+-+-+-+-+-+-+-+-+-+-+-+-+-+-+-+-+-+-+-+-+-+-+-+-+-+-+-+-+-+-+\n",
    "|                              data                             |\n",
    "+-+-+-+-+-+-+-+-+-+-+-+-+-+-+-+-+-+-+-+-+-+-+-+-+-+-+-+-+-+-+-+-+\n",
    "\n",
    "```\n",
    "**Source Port (16 bits):** Specifies the port number on the source machine. This is often assigned dynamically by the source machine for outgoing packets (ephemeral port). For well-known services, this field often contains the service's assigned port number.   \n",
    "\n",
    "**Destination Port (16 bits):** Specifies the port number on the destination machine. For well-known services, this field contains the service's assigned port number.   \n",
    "\n",
    "**Length (16 bits):** Specifies the length in bytes of the entire datagram: header and data. The minimum value for this field is 8, which corresponds to the length of the header.   \n",
    "\n",
    "**Checksum (16 bits):** Used for error-checking the header and data. The checksum field provides a means of detecting errors introduced during transmission or reception. The algorithm to compute the checksum is defined in the RFC for UDP.   \n",
    "\n",
    "**Data (variable):** The actual data transmitted by the UDP datagram. Its size can be determined by subtracting the length of the header (8 bytes) from the value in the Length field.   \n",
    "\n",
    "UDP is a connectionless protocol that doesn't guarantee delivery, order, or data integrity, but it's faster and requires fewer resources compared to TCP. It's often used for real-time services like video or voice streaming, where occasional lost packets are acceptable and can be managed at higher layers or by the application itself.\n",
    "\n"
   ]
  },
  {
   "cell_type": "code",
   "execution_count": 19,
   "metadata": {},
   "outputs": [
    {
     "data": {
      "text/plain": [
       "scapy.layers.inet.UDP"
      ]
     },
     "execution_count": 19,
     "metadata": {},
     "output_type": "execute_result"
    }
   ],
   "source": [
    "sample_pkt2 = pcap[68]\n",
    "ip_pkt2 = sample_pkt2.payload\n",
    "transport_segment = ip_pkt2.payload\n",
    "type(transport_segment)"
   ]
  },
  {
   "cell_type": "code",
   "execution_count": 20,
   "metadata": {},
   "outputs": [
    {
     "name": "stdout",
     "output_type": "stream",
     "text": [
      "###[ UDP ]###\n",
      "  sport     = https\n",
      "  dport     = 52047\n",
      "  len       = 34\n",
      "  chksum    = 0x24bd\n",
      "###[ Raw ]###\n",
      "     load      = b\"D(k\\xb1\\xd0\\xb7'\\x80Q<\\xfd\\x84o\\xe4\\xb8z@\\xd71\\x1e\\x1d#\\xde\\x0e\\xa0\\xfc\"\n",
      "\n"
     ]
    }
   ],
   "source": [
    "transport_segment.show()"
   ]
  },
  {
   "cell_type": "markdown",
   "metadata": {},
   "source": [
    "# Convert PCAP to Dataframe"
   ]
  },
  {
   "cell_type": "code",
   "execution_count": 6,
   "metadata": {},
   "outputs": [],
   "source": [
    "# Define lists for IP, TCP, and UDP fields\n",
    "ip_fields = ['src_ip', 'dst_ip', 'len', 'proto']\n",
    "tcp_fields = ['sport', 'dport', 'seq', 'ack', 'off', 'flags', 'win', 'sum', 'urp', 'opts', \"ulen\"]\n",
    "udp_fields = ['sport', 'dport', 'ulen', 'sum']\n",
    "\n",
    "# Function to extract IPv4 fields from data\n",
    "def get_ip4_fields(data):\n",
    "    src = socket.inet_ntoa(data.src)\n",
    "    dst = socket.inet_ntoa(data.dst)\n",
    "    plen = data.len\n",
    "    proto = data.p\n",
    "    return [src, dst, plen, proto]\n",
    "\n",
    "# Function to extract IPv6 fields from data\n",
    "def get_ip6_fields(data):\n",
    "    src = socket.inet_ntop(socket.AF_INET6, data.src)\n",
    "    dst = socket.inet_ntop(socket.AF_INET6, data.dst)\n",
    "    plen = data.plen\n",
    "    proto = data.p\n",
    "    return [src, dst, plen, proto]\n",
    "\n",
    "# Function to extract TCP fields\n",
    "def get_tcp_fields(tcp):\n",
    "    fields = []\n",
    "    for field in tcp_fields:\n",
    "        if field == \"ulen\":\n",
    "            fields.append(len(tcp.data))\n",
    "        else:\n",
    "            fields.append(getattr(tcp, field))\n",
    "    return fields\n",
    "\n",
    "# Function to extract UDP fields\n",
    "def get_udp_fields(udp):\n",
    "    fields = []\n",
    "    for field in udp_fields:\n",
    "        fields.append(getattr(udp, field))\n",
    "    return fields\n",
    "\n",
    "# Function to convert pcap file to DataFrame\n",
    "def pcap_to_df(file_path):\n",
    "    # Open the pcap file\n",
    "    f = open(file_path, 'rb')\n",
    "    # Create a pcap reader\n",
    "    pcap = dpkt.pcap.Reader(f)\n",
    "    \n",
    "    # List to store extracted fields\n",
    "    fields_list = []\n",
    "    # Iterate through each packet(buf) in the pcap file along with its timestamp(ts)\n",
    "    for ts, buf in pcap:\n",
    "        \n",
    "        fields = [ts]\n",
    "        # Parse the Ethernet frame\n",
    "        eth = dpkt.ethernet.Ethernet(buf)\n",
    "        # Get the IP packet\n",
    "        ip = eth.data\n",
    "        ip_type = \"ipv4\"\n",
    "        \n",
    "        \n",
    "        # Check if it is an IPv4 or IPv6 packet\n",
    "        if isinstance(ip, dpkt.ip.IP):\n",
    "            fields += get_ip4_fields(ip)\n",
    "        elif isinstance(ip, dpkt.ip6.IP6):\n",
    "            fields += get_ip6_fields(ip)\n",
    "            ip_type = \"ipv6\"\n",
    "        else:\n",
    "            continue\n",
    "            \n",
    "        # Create dummy lists for TCP and UDP fields\n",
    "        dummy_tcp_fields = [None for x in tcp_fields]\n",
    "        dummy_udp_fields = [None for x in udp_fields]\n",
    "        \n",
    "        # Check the transport protocol and extract fields accordingly\n",
    "        if fields[-1] == 17:  # UDP\n",
    "            transport_fields = get_udp_fields(ip.data) + dummy_tcp_fields\n",
    "        elif fields[-1] == 6:  # TCP\n",
    "            transport_fields = dummy_udp_fields + get_tcp_fields(ip.data)\n",
    "        else:\n",
    "            continue\n",
    "        \n",
    "        # Combine IP, UDP, and TCP fields\n",
    "        fields += transport_fields\n",
    "        fields_list.append(fields)\n",
    "    \n",
    "    udp_fields_name = [f\"udp_{x}\" for x in udp_fields]\n",
    "    tcp_fields_name = [f\"tcp_{x}\" for x in tcp_fields]\n",
    "    field_names = ['ts'] + ip_fields + udp_fields_name + tcp_fields_name            #Columns Header line\n",
    "    \n",
    "    # Create a DataFrame from the list of fields\n",
    "    df = pd.DataFrame(fields_list, columns=field_names)\n",
    "    return df"
   ]
  },
  {
   "cell_type": "code",
   "execution_count": 7,
   "metadata": {},
   "outputs": [],
   "source": [
    "file_path = \"./data/speedtest.pcap\"\n",
    "df = pcap_to_df(file_path)"
   ]
  },
  {
   "cell_type": "markdown",
   "metadata": {},
   "source": [
    "### Dataframe basics"
   ]
  },
  {
   "cell_type": "code",
   "execution_count": 23,
   "metadata": {},
   "outputs": [
    {
     "name": "stdout",
     "output_type": "stream",
     "text": [
      "ts                                1704286199.092346\n",
      "src_ip       2001:df4:e000:3fc5:fdd4:f96e:e3f2:c357\n",
      "dst_ip                     2404:6800:4002:82e::200e\n",
      "len                                            1231\n",
      "proto                                            17\n",
      "udp_sport                                   52047.0\n",
      "udp_dport                                     443.0\n",
      "udp_ulen                                     1231.0\n",
      "udp_sum                                     17615.0\n",
      "tcp_sport                                       NaN\n",
      "tcp_dport                                       NaN\n",
      "tcp_seq                                         NaN\n",
      "tcp_ack                                         NaN\n",
      "tcp_off                                         NaN\n",
      "tcp_flags                                       NaN\n",
      "tcp_win                                         NaN\n",
      "tcp_sum                                         NaN\n",
      "tcp_urp                                         NaN\n",
      "tcp_opts                                       None\n",
      "tcp_ulen                                        NaN\n",
      "Name: 0, dtype: object\n"
     ]
    }
   ],
   "source": [
    "# Retrieve first row from DataFrame\n",
    "print(df.iloc[0])"
   ]
  },
  {
   "cell_type": "code",
   "execution_count": 8,
   "metadata": {},
   "outputs": [
    {
     "name": "stdout",
     "output_type": "stream",
     "text": [
      "(36924, 20)\n"
     ]
    }
   ],
   "source": [
    "print(df.shape)"
   ]
  },
  {
   "cell_type": "code",
   "execution_count": 25,
   "metadata": {},
   "outputs": [
    {
     "data": {
      "text/html": [
       "<div>\n",
       "<style scoped>\n",
       "    .dataframe tbody tr th:only-of-type {\n",
       "        vertical-align: middle;\n",
       "    }\n",
       "\n",
       "    .dataframe tbody tr th {\n",
       "        vertical-align: top;\n",
       "    }\n",
       "\n",
       "    .dataframe thead th {\n",
       "        text-align: right;\n",
       "    }\n",
       "</style>\n",
       "<table border=\"1\" class=\"dataframe\">\n",
       "  <thead>\n",
       "    <tr style=\"text-align: right;\">\n",
       "      <th></th>\n",
       "      <th>ts</th>\n",
       "      <th>src_ip</th>\n",
       "      <th>dst_ip</th>\n",
       "      <th>len</th>\n",
       "      <th>proto</th>\n",
       "      <th>udp_sport</th>\n",
       "      <th>udp_dport</th>\n",
       "      <th>udp_ulen</th>\n",
       "      <th>udp_sum</th>\n",
       "      <th>tcp_sport</th>\n",
       "      <th>tcp_dport</th>\n",
       "      <th>tcp_seq</th>\n",
       "      <th>tcp_ack</th>\n",
       "      <th>tcp_off</th>\n",
       "      <th>tcp_flags</th>\n",
       "      <th>tcp_win</th>\n",
       "      <th>tcp_sum</th>\n",
       "      <th>tcp_urp</th>\n",
       "      <th>tcp_opts</th>\n",
       "      <th>tcp_ulen</th>\n",
       "    </tr>\n",
       "  </thead>\n",
       "  <tbody>\n",
       "    <tr>\n",
       "      <th>0</th>\n",
       "      <td>1.704286e+09</td>\n",
       "      <td>2001:df4:e000:3fc5:fdd4:f96e:e3f2:c357</td>\n",
       "      <td>2404:6800:4002:82e::200e</td>\n",
       "      <td>1231</td>\n",
       "      <td>17</td>\n",
       "      <td>52047.0</td>\n",
       "      <td>443.0</td>\n",
       "      <td>1231.0</td>\n",
       "      <td>17615.0</td>\n",
       "      <td>NaN</td>\n",
       "      <td>NaN</td>\n",
       "      <td>NaN</td>\n",
       "      <td>NaN</td>\n",
       "      <td>NaN</td>\n",
       "      <td>NaN</td>\n",
       "      <td>NaN</td>\n",
       "      <td>NaN</td>\n",
       "      <td>NaN</td>\n",
       "      <td>None</td>\n",
       "      <td>NaN</td>\n",
       "    </tr>\n",
       "    <tr>\n",
       "      <th>1</th>\n",
       "      <td>1.704286e+09</td>\n",
       "      <td>2001:df4:e000:3fc5:fdd4:f96e:e3f2:c357</td>\n",
       "      <td>2404:6800:4002:82e::200e</td>\n",
       "      <td>1238</td>\n",
       "      <td>17</td>\n",
       "      <td>52047.0</td>\n",
       "      <td>443.0</td>\n",
       "      <td>1238.0</td>\n",
       "      <td>6001.0</td>\n",
       "      <td>NaN</td>\n",
       "      <td>NaN</td>\n",
       "      <td>NaN</td>\n",
       "      <td>NaN</td>\n",
       "      <td>NaN</td>\n",
       "      <td>NaN</td>\n",
       "      <td>NaN</td>\n",
       "      <td>NaN</td>\n",
       "      <td>NaN</td>\n",
       "      <td>None</td>\n",
       "      <td>NaN</td>\n",
       "    </tr>\n",
       "    <tr>\n",
       "      <th>2</th>\n",
       "      <td>1.704286e+09</td>\n",
       "      <td>2001:df4:e000:3fc5:fdd4:f96e:e3f2:c357</td>\n",
       "      <td>2404:6800:4002:82e::200e</td>\n",
       "      <td>1238</td>\n",
       "      <td>17</td>\n",
       "      <td>52047.0</td>\n",
       "      <td>443.0</td>\n",
       "      <td>1238.0</td>\n",
       "      <td>31146.0</td>\n",
       "      <td>NaN</td>\n",
       "      <td>NaN</td>\n",
       "      <td>NaN</td>\n",
       "      <td>NaN</td>\n",
       "      <td>NaN</td>\n",
       "      <td>NaN</td>\n",
       "      <td>NaN</td>\n",
       "      <td>NaN</td>\n",
       "      <td>NaN</td>\n",
       "      <td>None</td>\n",
       "      <td>NaN</td>\n",
       "    </tr>\n",
       "    <tr>\n",
       "      <th>3</th>\n",
       "      <td>1.704286e+09</td>\n",
       "      <td>2001:df4:e000:3fc5:fdd4:f96e:e3f2:c357</td>\n",
       "      <td>2404:6800:4002:82e::200e</td>\n",
       "      <td>914</td>\n",
       "      <td>17</td>\n",
       "      <td>52047.0</td>\n",
       "      <td>443.0</td>\n",
       "      <td>914.0</td>\n",
       "      <td>5680.0</td>\n",
       "      <td>NaN</td>\n",
       "      <td>NaN</td>\n",
       "      <td>NaN</td>\n",
       "      <td>NaN</td>\n",
       "      <td>NaN</td>\n",
       "      <td>NaN</td>\n",
       "      <td>NaN</td>\n",
       "      <td>NaN</td>\n",
       "      <td>NaN</td>\n",
       "      <td>None</td>\n",
       "      <td>NaN</td>\n",
       "    </tr>\n",
       "    <tr>\n",
       "      <th>4</th>\n",
       "      <td>1.704286e+09</td>\n",
       "      <td>2001:df4:e000:3fc5:fdd4:f96e:e3f2:c357</td>\n",
       "      <td>2404:6800:4002:82e::200e</td>\n",
       "      <td>1231</td>\n",
       "      <td>17</td>\n",
       "      <td>52047.0</td>\n",
       "      <td>443.0</td>\n",
       "      <td>1231.0</td>\n",
       "      <td>5384.0</td>\n",
       "      <td>NaN</td>\n",
       "      <td>NaN</td>\n",
       "      <td>NaN</td>\n",
       "      <td>NaN</td>\n",
       "      <td>NaN</td>\n",
       "      <td>NaN</td>\n",
       "      <td>NaN</td>\n",
       "      <td>NaN</td>\n",
       "      <td>NaN</td>\n",
       "      <td>None</td>\n",
       "      <td>NaN</td>\n",
       "    </tr>\n",
       "  </tbody>\n",
       "</table>\n",
       "</div>"
      ],
      "text/plain": [
       "             ts                                  src_ip  \\\n",
       "0  1.704286e+09  2001:df4:e000:3fc5:fdd4:f96e:e3f2:c357   \n",
       "1  1.704286e+09  2001:df4:e000:3fc5:fdd4:f96e:e3f2:c357   \n",
       "2  1.704286e+09  2001:df4:e000:3fc5:fdd4:f96e:e3f2:c357   \n",
       "3  1.704286e+09  2001:df4:e000:3fc5:fdd4:f96e:e3f2:c357   \n",
       "4  1.704286e+09  2001:df4:e000:3fc5:fdd4:f96e:e3f2:c357   \n",
       "\n",
       "                     dst_ip   len  proto  udp_sport  udp_dport  udp_ulen  \\\n",
       "0  2404:6800:4002:82e::200e  1231     17    52047.0      443.0    1231.0   \n",
       "1  2404:6800:4002:82e::200e  1238     17    52047.0      443.0    1238.0   \n",
       "2  2404:6800:4002:82e::200e  1238     17    52047.0      443.0    1238.0   \n",
       "3  2404:6800:4002:82e::200e   914     17    52047.0      443.0     914.0   \n",
       "4  2404:6800:4002:82e::200e  1231     17    52047.0      443.0    1231.0   \n",
       "\n",
       "   udp_sum  tcp_sport  tcp_dport  tcp_seq  tcp_ack  tcp_off  tcp_flags  \\\n",
       "0  17615.0        NaN        NaN      NaN      NaN      NaN        NaN   \n",
       "1   6001.0        NaN        NaN      NaN      NaN      NaN        NaN   \n",
       "2  31146.0        NaN        NaN      NaN      NaN      NaN        NaN   \n",
       "3   5680.0        NaN        NaN      NaN      NaN      NaN        NaN   \n",
       "4   5384.0        NaN        NaN      NaN      NaN      NaN        NaN   \n",
       "\n",
       "   tcp_win  tcp_sum  tcp_urp tcp_opts  tcp_ulen  \n",
       "0      NaN      NaN      NaN     None       NaN  \n",
       "1      NaN      NaN      NaN     None       NaN  \n",
       "2      NaN      NaN      NaN     None       NaN  \n",
       "3      NaN      NaN      NaN     None       NaN  \n",
       "4      NaN      NaN      NaN     None       NaN  "
      ]
     },
     "execution_count": 25,
     "metadata": {},
     "output_type": "execute_result"
    }
   ],
   "source": [
    "# Return first 5 rows\n",
    "df.head()"
   ]
  },
  {
   "cell_type": "code",
   "execution_count": 26,
   "metadata": {},
   "outputs": [
    {
     "data": {
      "text/html": [
       "<div>\n",
       "<style scoped>\n",
       "    .dataframe tbody tr th:only-of-type {\n",
       "        vertical-align: middle;\n",
       "    }\n",
       "\n",
       "    .dataframe tbody tr th {\n",
       "        vertical-align: top;\n",
       "    }\n",
       "\n",
       "    .dataframe thead th {\n",
       "        text-align: right;\n",
       "    }\n",
       "</style>\n",
       "<table border=\"1\" class=\"dataframe\">\n",
       "  <thead>\n",
       "    <tr style=\"text-align: right;\">\n",
       "      <th></th>\n",
       "      <th>ts</th>\n",
       "      <th>src_ip</th>\n",
       "      <th>dst_ip</th>\n",
       "      <th>len</th>\n",
       "      <th>proto</th>\n",
       "      <th>udp_sport</th>\n",
       "      <th>udp_dport</th>\n",
       "      <th>udp_ulen</th>\n",
       "      <th>udp_sum</th>\n",
       "      <th>tcp_sport</th>\n",
       "      <th>tcp_dport</th>\n",
       "      <th>tcp_seq</th>\n",
       "      <th>tcp_ack</th>\n",
       "      <th>tcp_off</th>\n",
       "      <th>tcp_flags</th>\n",
       "      <th>tcp_win</th>\n",
       "      <th>tcp_sum</th>\n",
       "      <th>tcp_urp</th>\n",
       "      <th>tcp_opts</th>\n",
       "      <th>tcp_ulen</th>\n",
       "    </tr>\n",
       "  </thead>\n",
       "  <tbody>\n",
       "    <tr>\n",
       "      <th>36919</th>\n",
       "      <td>1.704286e+09</td>\n",
       "      <td>10.194.128.144</td>\n",
       "      <td>54.162.244.80</td>\n",
       "      <td>52</td>\n",
       "      <td>6</td>\n",
       "      <td>NaN</td>\n",
       "      <td>NaN</td>\n",
       "      <td>NaN</td>\n",
       "      <td>NaN</td>\n",
       "      <td>53177.0</td>\n",
       "      <td>443.0</td>\n",
       "      <td>1.141649e+09</td>\n",
       "      <td>3.805552e+09</td>\n",
       "      <td>8.0</td>\n",
       "      <td>17.0</td>\n",
       "      <td>2048.0</td>\n",
       "      <td>39870.0</td>\n",
       "      <td>0.0</td>\n",
       "      <td>b'\\x01\\x01\\x08\\n\\xb5j\\xeby\\xcd\\x18ju'</td>\n",
       "      <td>0.0</td>\n",
       "    </tr>\n",
       "    <tr>\n",
       "      <th>36920</th>\n",
       "      <td>1.704286e+09</td>\n",
       "      <td>54.162.244.80</td>\n",
       "      <td>10.194.128.144</td>\n",
       "      <td>52</td>\n",
       "      <td>6</td>\n",
       "      <td>NaN</td>\n",
       "      <td>NaN</td>\n",
       "      <td>NaN</td>\n",
       "      <td>NaN</td>\n",
       "      <td>443.0</td>\n",
       "      <td>53182.0</td>\n",
       "      <td>1.978112e+08</td>\n",
       "      <td>3.312172e+09</td>\n",
       "      <td>8.0</td>\n",
       "      <td>17.0</td>\n",
       "      <td>114.0</td>\n",
       "      <td>6430.0</td>\n",
       "      <td>0.0</td>\n",
       "      <td>b'\\x01\\x01\\x08\\n\\xcd\\x18s\\xbc\\x02_\\xa9\\xe0'</td>\n",
       "      <td>0.0</td>\n",
       "    </tr>\n",
       "    <tr>\n",
       "      <th>36921</th>\n",
       "      <td>1.704286e+09</td>\n",
       "      <td>10.194.128.144</td>\n",
       "      <td>54.162.244.80</td>\n",
       "      <td>52</td>\n",
       "      <td>6</td>\n",
       "      <td>NaN</td>\n",
       "      <td>NaN</td>\n",
       "      <td>NaN</td>\n",
       "      <td>NaN</td>\n",
       "      <td>53182.0</td>\n",
       "      <td>443.0</td>\n",
       "      <td>3.312172e+09</td>\n",
       "      <td>1.978112e+08</td>\n",
       "      <td>8.0</td>\n",
       "      <td>16.0</td>\n",
       "      <td>2048.0</td>\n",
       "      <td>4280.0</td>\n",
       "      <td>0.0</td>\n",
       "      <td>b'\\x01\\x01\\x08\\n\\x02_\\xaa\\xb8\\xcd\\x18s\\xbc'</td>\n",
       "      <td>0.0</td>\n",
       "    </tr>\n",
       "    <tr>\n",
       "      <th>36922</th>\n",
       "      <td>1.704286e+09</td>\n",
       "      <td>54.162.244.80</td>\n",
       "      <td>10.194.128.144</td>\n",
       "      <td>52</td>\n",
       "      <td>6</td>\n",
       "      <td>NaN</td>\n",
       "      <td>NaN</td>\n",
       "      <td>NaN</td>\n",
       "      <td>NaN</td>\n",
       "      <td>443.0</td>\n",
       "      <td>53177.0</td>\n",
       "      <td>3.805552e+09</td>\n",
       "      <td>1.141649e+09</td>\n",
       "      <td>8.0</td>\n",
       "      <td>17.0</td>\n",
       "      <td>122.0</td>\n",
       "      <td>39408.0</td>\n",
       "      <td>0.0</td>\n",
       "      <td>b'\\x01\\x01\\x08\\n\\xcd\\x18s\\xc8\\xb5j\\xeby'</td>\n",
       "      <td>0.0</td>\n",
       "    </tr>\n",
       "    <tr>\n",
       "      <th>36923</th>\n",
       "      <td>1.704286e+09</td>\n",
       "      <td>10.194.128.144</td>\n",
       "      <td>54.162.244.80</td>\n",
       "      <td>52</td>\n",
       "      <td>6</td>\n",
       "      <td>NaN</td>\n",
       "      <td>NaN</td>\n",
       "      <td>NaN</td>\n",
       "      <td>NaN</td>\n",
       "      <td>53177.0</td>\n",
       "      <td>443.0</td>\n",
       "      <td>1.141649e+09</td>\n",
       "      <td>3.805552e+09</td>\n",
       "      <td>8.0</td>\n",
       "      <td>16.0</td>\n",
       "      <td>2048.0</td>\n",
       "      <td>37259.0</td>\n",
       "      <td>0.0</td>\n",
       "      <td>b'\\x01\\x01\\x08\\n\\xb5j\\xecX\\xcd\\x18s\\xc8'</td>\n",
       "      <td>0.0</td>\n",
       "    </tr>\n",
       "  </tbody>\n",
       "</table>\n",
       "</div>"
      ],
      "text/plain": [
       "                 ts          src_ip          dst_ip  len  proto  udp_sport  \\\n",
       "36919  1.704286e+09  10.194.128.144   54.162.244.80   52      6        NaN   \n",
       "36920  1.704286e+09   54.162.244.80  10.194.128.144   52      6        NaN   \n",
       "36921  1.704286e+09  10.194.128.144   54.162.244.80   52      6        NaN   \n",
       "36922  1.704286e+09   54.162.244.80  10.194.128.144   52      6        NaN   \n",
       "36923  1.704286e+09  10.194.128.144   54.162.244.80   52      6        NaN   \n",
       "\n",
       "       udp_dport  udp_ulen  udp_sum  tcp_sport  tcp_dport       tcp_seq  \\\n",
       "36919        NaN       NaN      NaN    53177.0      443.0  1.141649e+09   \n",
       "36920        NaN       NaN      NaN      443.0    53182.0  1.978112e+08   \n",
       "36921        NaN       NaN      NaN    53182.0      443.0  3.312172e+09   \n",
       "36922        NaN       NaN      NaN      443.0    53177.0  3.805552e+09   \n",
       "36923        NaN       NaN      NaN    53177.0      443.0  1.141649e+09   \n",
       "\n",
       "            tcp_ack  tcp_off  tcp_flags  tcp_win  tcp_sum  tcp_urp  \\\n",
       "36919  3.805552e+09      8.0       17.0   2048.0  39870.0      0.0   \n",
       "36920  3.312172e+09      8.0       17.0    114.0   6430.0      0.0   \n",
       "36921  1.978112e+08      8.0       16.0   2048.0   4280.0      0.0   \n",
       "36922  1.141649e+09      8.0       17.0    122.0  39408.0      0.0   \n",
       "36923  3.805552e+09      8.0       16.0   2048.0  37259.0      0.0   \n",
       "\n",
       "                                          tcp_opts  tcp_ulen  \n",
       "36919        b'\\x01\\x01\\x08\\n\\xb5j\\xeby\\xcd\\x18ju'       0.0  \n",
       "36920  b'\\x01\\x01\\x08\\n\\xcd\\x18s\\xbc\\x02_\\xa9\\xe0'       0.0  \n",
       "36921  b'\\x01\\x01\\x08\\n\\x02_\\xaa\\xb8\\xcd\\x18s\\xbc'       0.0  \n",
       "36922     b'\\x01\\x01\\x08\\n\\xcd\\x18s\\xc8\\xb5j\\xeby'       0.0  \n",
       "36923     b'\\x01\\x01\\x08\\n\\xb5j\\xecX\\xcd\\x18s\\xc8'       0.0  "
      ]
     },
     "execution_count": 26,
     "metadata": {},
     "output_type": "execute_result"
    }
   ],
   "source": [
    "# Return last 5 rows\n",
    "df.tail()"
   ]
  },
  {
   "cell_type": "code",
   "execution_count": 9,
   "metadata": {},
   "outputs": [
    {
     "name": "stdout",
     "output_type": "stream",
     "text": [
      "                 ts           src_ip           dst_ip  tcp_flags\n",
      "1356   1.704286e+09   10.194.128.144  172.253.118.188       16.0\n",
      "1367   1.704286e+09  172.253.118.188   10.194.128.144       16.0\n",
      "1577   1.704286e+09   10.194.128.144   34.206.247.180       17.0\n",
      "2212   1.704286e+09   34.206.247.180   10.194.128.144       17.0\n",
      "2213   1.704286e+09   10.194.128.144   34.206.247.180       16.0\n",
      "...             ...              ...              ...        ...\n",
      "36919  1.704286e+09   10.194.128.144    54.162.244.80       17.0\n",
      "36920  1.704286e+09    54.162.244.80   10.194.128.144       17.0\n",
      "36921  1.704286e+09   10.194.128.144    54.162.244.80       16.0\n",
      "36922  1.704286e+09    54.162.244.80   10.194.128.144       17.0\n",
      "36923  1.704286e+09   10.194.128.144    54.162.244.80       16.0\n",
      "\n",
      "[7108 rows x 4 columns]\n"
     ]
    }
   ],
   "source": [
    "control_packets = df[df['tcp_ulen'] == 0]\n",
    "print(control_packets[['ts', 'src_ip', 'dst_ip', 'tcp_flags']])         # ACK: 0x10 (16),        FIN+ACK: 0x11 (17)"
   ]
  },
  {
   "cell_type": "code",
   "execution_count": 10,
   "metadata": {},
   "outputs": [
    {
     "name": "stdout",
     "output_type": "stream",
     "text": [
      "tcp_flags\n",
      "16.0    26103\n",
      "24.0     2853\n",
      "17.0       32\n",
      "2.0        15\n",
      "18.0       15\n",
      "4.0         7\n",
      "20.0        2\n",
      "25.0        1\n",
      "Name: count, dtype: int64\n"
     ]
    }
   ],
   "source": [
    "flag_counts = df['tcp_flags'].value_counts()\n",
    "print(flag_counts)"
   ]
  },
  {
   "cell_type": "code",
   "execution_count": 11,
   "metadata": {},
   "outputs": [
    {
     "name": "stdout",
     "output_type": "stream",
     "text": [
      "src_ip\n",
      "2001:df4:e000:3fc5:fdd4:f96e:e3f2:c357    16166\n",
      "2403:0:400:56::203                        13451\n",
      "2405:8a00:14:8::9                          6525\n",
      "10.194.128.144                              224\n",
      "2404:6800:4002:82e::200e                    149\n",
      "34.206.247.180                               88\n",
      "2404:6800:4002:815::2016                     55\n",
      "54.162.244.80                                39\n",
      "142.250.193.10                               32\n",
      "2404:6800:4002:82e::2004                     27\n",
      "3.229.154.92                                 24\n",
      "10.10.1.4                                    24\n",
      "2404:6800:4002:821::200e                     22\n",
      "2404:6800:4002:814::2013                     21\n",
      "2404:6800:4002:825::200e                     14\n",
      "2603:1046:c04:1016::2                        14\n",
      "2404:6800:4002:805::2003                     11\n",
      "2404:6800:4002:824::200a                     11\n",
      "2404:6800:4002:82c::2002                      9\n",
      "2001:df4:e000:29::104                         9\n",
      "2600:140f:5::173f:6f61                        4\n",
      "52.114.40.59                                  2\n",
      "172.253.118.188                               1\n",
      "52.168.117.168                                1\n",
      "2603:1040:601::21e                            1\n",
      "Name: count, dtype: int64\n"
     ]
    }
   ],
   "source": [
    "# Pkts originated from different sources\n",
    "src_counts = df['src_ip'].value_counts()\n",
    "print(src_counts)"
   ]
  },
  {
   "cell_type": "code",
   "execution_count": 12,
   "metadata": {},
   "outputs": [
    {
     "name": "stdout",
     "output_type": "stream",
     "text": [
      "dst_ip\n",
      "2001:df4:e000:3fc5:fdd4:f96e:e3f2:c357    20323\n",
      "2403:0:400:56::203                        15178\n",
      "2405:8a00:14:8::9                           730\n",
      "10.194.128.144                              211\n",
      "34.206.247.180                              110\n",
      "2404:6800:4002:82e::200e                     85\n",
      "2404:6800:4002:815::2016                     36\n",
      "142.250.193.10                               32\n",
      "54.162.244.80                                28\n",
      "2404:6800:4002:82e::2004                     27\n",
      "10.10.1.4                                    24\n",
      "2404:6800:4002:821::200e                     23\n",
      "3.229.154.92                                 18\n",
      "2404:6800:4002:814::2013                     16\n",
      "2603:1046:c04:1016::2                        16\n",
      "2404:6800:4002:825::200e                     13\n",
      "2404:6800:4002:805::2003                     11\n",
      "2404:6800:4002:824::200a                     10\n",
      "2001:df4:e000:29::104                         9\n",
      "2404:6800:4002:82c::2002                      8\n",
      "52.168.117.168                                4\n",
      "52.114.40.59                                  4\n",
      "2600:140f:5::173f:6f61                        2\n",
      "2603:1040:601::21e                            2\n",
      "20.189.173.12                                 2\n",
      "172.253.118.188                               1\n",
      "40.112.143.140                                1\n",
      "Name: count, dtype: int64\n"
     ]
    }
   ],
   "source": [
    "# Pkts delivered to different addresses\n",
    "destn_counts = df['dst_ip'].value_counts()\n",
    "print(destn_counts)"
   ]
  },
  {
   "cell_type": "code",
   "execution_count": 29,
   "metadata": {},
   "outputs": [
    {
     "data": {
      "text/plain": [
       "0        2001:df4:e000:3fc5:fdd4:f96e:e3f2:c357\n",
       "1        2001:df4:e000:3fc5:fdd4:f96e:e3f2:c357\n",
       "2        2001:df4:e000:3fc5:fdd4:f96e:e3f2:c357\n",
       "3        2001:df4:e000:3fc5:fdd4:f96e:e3f2:c357\n",
       "4        2001:df4:e000:3fc5:fdd4:f96e:e3f2:c357\n",
       "                          ...                  \n",
       "36919                            10.194.128.144\n",
       "36920                             54.162.244.80\n",
       "36921                            10.194.128.144\n",
       "36922                             54.162.244.80\n",
       "36923                            10.194.128.144\n",
       "Name: src_ip, Length: 36924, dtype: object"
      ]
     },
     "execution_count": 29,
     "metadata": {},
     "output_type": "execute_result"
    }
   ],
   "source": [
    "# Return the Source Address for all rows\n",
    "df['src_ip']"
   ]
  },
  {
   "cell_type": "code",
   "execution_count": 30,
   "metadata": {},
   "outputs": [
    {
     "data": {
      "text/html": [
       "<div>\n",
       "<style scoped>\n",
       "    .dataframe tbody tr th:only-of-type {\n",
       "        vertical-align: middle;\n",
       "    }\n",
       "\n",
       "    .dataframe tbody tr th {\n",
       "        vertical-align: top;\n",
       "    }\n",
       "\n",
       "    .dataframe thead th {\n",
       "        text-align: right;\n",
       "    }\n",
       "</style>\n",
       "<table border=\"1\" class=\"dataframe\">\n",
       "  <thead>\n",
       "    <tr style=\"text-align: right;\">\n",
       "      <th></th>\n",
       "      <th>src_ip</th>\n",
       "      <th>dst_ip</th>\n",
       "      <th>udp_sport</th>\n",
       "      <th>udp_dport</th>\n",
       "      <th>tcp_sport</th>\n",
       "      <th>tcp_dport</th>\n",
       "      <th>proto</th>\n",
       "    </tr>\n",
       "  </thead>\n",
       "  <tbody>\n",
       "    <tr>\n",
       "      <th>0</th>\n",
       "      <td>2001:df4:e000:3fc5:fdd4:f96e:e3f2:c357</td>\n",
       "      <td>2404:6800:4002:82e::200e</td>\n",
       "      <td>52047.0</td>\n",
       "      <td>443.0</td>\n",
       "      <td>NaN</td>\n",
       "      <td>NaN</td>\n",
       "      <td>17</td>\n",
       "    </tr>\n",
       "    <tr>\n",
       "      <th>1</th>\n",
       "      <td>2001:df4:e000:3fc5:fdd4:f96e:e3f2:c357</td>\n",
       "      <td>2404:6800:4002:82e::200e</td>\n",
       "      <td>52047.0</td>\n",
       "      <td>443.0</td>\n",
       "      <td>NaN</td>\n",
       "      <td>NaN</td>\n",
       "      <td>17</td>\n",
       "    </tr>\n",
       "    <tr>\n",
       "      <th>2</th>\n",
       "      <td>2001:df4:e000:3fc5:fdd4:f96e:e3f2:c357</td>\n",
       "      <td>2404:6800:4002:82e::200e</td>\n",
       "      <td>52047.0</td>\n",
       "      <td>443.0</td>\n",
       "      <td>NaN</td>\n",
       "      <td>NaN</td>\n",
       "      <td>17</td>\n",
       "    </tr>\n",
       "    <tr>\n",
       "      <th>3</th>\n",
       "      <td>2001:df4:e000:3fc5:fdd4:f96e:e3f2:c357</td>\n",
       "      <td>2404:6800:4002:82e::200e</td>\n",
       "      <td>52047.0</td>\n",
       "      <td>443.0</td>\n",
       "      <td>NaN</td>\n",
       "      <td>NaN</td>\n",
       "      <td>17</td>\n",
       "    </tr>\n",
       "    <tr>\n",
       "      <th>4</th>\n",
       "      <td>2001:df4:e000:3fc5:fdd4:f96e:e3f2:c357</td>\n",
       "      <td>2404:6800:4002:82e::200e</td>\n",
       "      <td>52047.0</td>\n",
       "      <td>443.0</td>\n",
       "      <td>NaN</td>\n",
       "      <td>NaN</td>\n",
       "      <td>17</td>\n",
       "    </tr>\n",
       "    <tr>\n",
       "      <th>...</th>\n",
       "      <td>...</td>\n",
       "      <td>...</td>\n",
       "      <td>...</td>\n",
       "      <td>...</td>\n",
       "      <td>...</td>\n",
       "      <td>...</td>\n",
       "      <td>...</td>\n",
       "    </tr>\n",
       "    <tr>\n",
       "      <th>36919</th>\n",
       "      <td>10.194.128.144</td>\n",
       "      <td>54.162.244.80</td>\n",
       "      <td>NaN</td>\n",
       "      <td>NaN</td>\n",
       "      <td>53177.0</td>\n",
       "      <td>443.0</td>\n",
       "      <td>6</td>\n",
       "    </tr>\n",
       "    <tr>\n",
       "      <th>36920</th>\n",
       "      <td>54.162.244.80</td>\n",
       "      <td>10.194.128.144</td>\n",
       "      <td>NaN</td>\n",
       "      <td>NaN</td>\n",
       "      <td>443.0</td>\n",
       "      <td>53182.0</td>\n",
       "      <td>6</td>\n",
       "    </tr>\n",
       "    <tr>\n",
       "      <th>36921</th>\n",
       "      <td>10.194.128.144</td>\n",
       "      <td>54.162.244.80</td>\n",
       "      <td>NaN</td>\n",
       "      <td>NaN</td>\n",
       "      <td>53182.0</td>\n",
       "      <td>443.0</td>\n",
       "      <td>6</td>\n",
       "    </tr>\n",
       "    <tr>\n",
       "      <th>36922</th>\n",
       "      <td>54.162.244.80</td>\n",
       "      <td>10.194.128.144</td>\n",
       "      <td>NaN</td>\n",
       "      <td>NaN</td>\n",
       "      <td>443.0</td>\n",
       "      <td>53177.0</td>\n",
       "      <td>6</td>\n",
       "    </tr>\n",
       "    <tr>\n",
       "      <th>36923</th>\n",
       "      <td>10.194.128.144</td>\n",
       "      <td>54.162.244.80</td>\n",
       "      <td>NaN</td>\n",
       "      <td>NaN</td>\n",
       "      <td>53177.0</td>\n",
       "      <td>443.0</td>\n",
       "      <td>6</td>\n",
       "    </tr>\n",
       "  </tbody>\n",
       "</table>\n",
       "<p>36924 rows × 7 columns</p>\n",
       "</div>"
      ],
      "text/plain": [
       "                                       src_ip                    dst_ip  \\\n",
       "0      2001:df4:e000:3fc5:fdd4:f96e:e3f2:c357  2404:6800:4002:82e::200e   \n",
       "1      2001:df4:e000:3fc5:fdd4:f96e:e3f2:c357  2404:6800:4002:82e::200e   \n",
       "2      2001:df4:e000:3fc5:fdd4:f96e:e3f2:c357  2404:6800:4002:82e::200e   \n",
       "3      2001:df4:e000:3fc5:fdd4:f96e:e3f2:c357  2404:6800:4002:82e::200e   \n",
       "4      2001:df4:e000:3fc5:fdd4:f96e:e3f2:c357  2404:6800:4002:82e::200e   \n",
       "...                                       ...                       ...   \n",
       "36919                          10.194.128.144             54.162.244.80   \n",
       "36920                           54.162.244.80            10.194.128.144   \n",
       "36921                          10.194.128.144             54.162.244.80   \n",
       "36922                           54.162.244.80            10.194.128.144   \n",
       "36923                          10.194.128.144             54.162.244.80   \n",
       "\n",
       "       udp_sport  udp_dport  tcp_sport  tcp_dport  proto  \n",
       "0        52047.0      443.0        NaN        NaN     17  \n",
       "1        52047.0      443.0        NaN        NaN     17  \n",
       "2        52047.0      443.0        NaN        NaN     17  \n",
       "3        52047.0      443.0        NaN        NaN     17  \n",
       "4        52047.0      443.0        NaN        NaN     17  \n",
       "...          ...        ...        ...        ...    ...  \n",
       "36919        NaN        NaN    53177.0      443.0      6  \n",
       "36920        NaN        NaN      443.0    53182.0      6  \n",
       "36921        NaN        NaN    53182.0      443.0      6  \n",
       "36922        NaN        NaN      443.0    53177.0      6  \n",
       "36923        NaN        NaN    53177.0      443.0      6  \n",
       "\n",
       "[36924 rows x 7 columns]"
      ]
     },
     "execution_count": 30,
     "metadata": {},
     "output_type": "execute_result"
    }
   ],
   "source": [
    "# Return Src Address, Dst Address, Src Port, Dst Port\n",
    "df[['src_ip','dst_ip','udp_sport','udp_dport', 'tcp_sport', 'tcp_dport', 'proto']]"
   ]
  },
  {
   "cell_type": "code",
   "execution_count": 37,
   "metadata": {},
   "outputs": [
    {
     "data": {
      "image/png": "[encoded data removed]",
      "text/plain": [
       "<Figure size 1200x600 with 1 Axes>"
      ]
     },
     "metadata": {},
     "output_type": "display_data"
    }
   ],
   "source": [
    "# Create communication pair column\n",
    "df['pair'] = df['src_ip'] + ' -> ' + df['dst_ip']\n",
    "\n",
    "# Count occurrences of each pair\n",
    "pair_counts = df['pair'].value_counts().reset_index()\n",
    "pair_counts.columns = ['pair', 'packet_count']\n",
    "\n",
    "# Plotting communication in terms of number of packets\n",
    "plt.figure(figsize=(12, 6))\n",
    "ax = sns.barplot(\n",
    "    data=pair_counts.head(10),  # top 10 pairs\n",
    "    x='packet_count',\n",
    "    y='pair',\n",
    "    hue='pair',  \n",
    "    dodge=False,  # Ensure no separation by hue\n",
    "    palette='viridis',\n",
    "    legend=False  # Turn off the legend \n",
    ")\n",
    "\n",
    "# Add packet count on top of each bar\n",
    "for container in ax.containers:\n",
    "    ax.bar_label(container, fmt='%d', label_type='edge', fontsize=10)\n",
    "\n",
    "plt.title('Top Communication Pairs (Source -> Destination)', fontsize=14)\n",
    "plt.xlabel('Packet Count', fontsize=12)\n",
    "plt.ylabel('Communication Pair', fontsize=12)\n",
    "plt.tight_layout()\n",
    "plt.show()\n"
   ]
  },
  {
   "cell_type": "code",
   "execution_count": 38,
   "metadata": {},
   "outputs": [
    {
     "data": {
      "text/html": [
       "<div>\n",
       "<style scoped>\n",
       "    .dataframe tbody tr th:only-of-type {\n",
       "        vertical-align: middle;\n",
       "    }\n",
       "\n",
       "    .dataframe tbody tr th {\n",
       "        vertical-align: top;\n",
       "    }\n",
       "\n",
       "    .dataframe thead th {\n",
       "        text-align: right;\n",
       "    }\n",
       "</style>\n",
       "<table border=\"1\" class=\"dataframe\">\n",
       "  <thead>\n",
       "    <tr style=\"text-align: right;\">\n",
       "      <th></th>\n",
       "      <th>src_ip</th>\n",
       "      <th>udp_sport</th>\n",
       "      <th>tcp_sport</th>\n",
       "      <th>proto</th>\n",
       "      <th>total_bytes</th>\n",
       "    </tr>\n",
       "  </thead>\n",
       "  <tbody>\n",
       "    <tr>\n",
       "      <th>1</th>\n",
       "      <td>10.194.128.144</td>\n",
       "      <td>0.0</td>\n",
       "      <td>51742.0</td>\n",
       "      <td>6</td>\n",
       "      <td>40</td>\n",
       "    </tr>\n",
       "    <tr>\n",
       "      <th>2</th>\n",
       "      <td>10.194.128.144</td>\n",
       "      <td>0.0</td>\n",
       "      <td>51743.0</td>\n",
       "      <td>6</td>\n",
       "      <td>40</td>\n",
       "    </tr>\n",
       "    <tr>\n",
       "      <th>3</th>\n",
       "      <td>10.194.128.144</td>\n",
       "      <td>0.0</td>\n",
       "      <td>51744.0</td>\n",
       "      <td>6</td>\n",
       "      <td>40</td>\n",
       "    </tr>\n",
       "    <tr>\n",
       "      <th>4</th>\n",
       "      <td>10.194.128.144</td>\n",
       "      <td>0.0</td>\n",
       "      <td>51745.0</td>\n",
       "      <td>6</td>\n",
       "      <td>40</td>\n",
       "    </tr>\n",
       "    <tr>\n",
       "      <th>6</th>\n",
       "      <td>10.194.128.144</td>\n",
       "      <td>0.0</td>\n",
       "      <td>51750.0</td>\n",
       "      <td>6</td>\n",
       "      <td>40</td>\n",
       "    </tr>\n",
       "    <tr>\n",
       "      <th>...</th>\n",
       "      <td>...</td>\n",
       "      <td>...</td>\n",
       "      <td>...</td>\n",
       "      <td>...</td>\n",
       "      <td>...</td>\n",
       "    </tr>\n",
       "    <tr>\n",
       "      <th>53</th>\n",
       "      <td>2001:df4:e000:3fc5:fdd4:f96e:e3f2:c357</td>\n",
       "      <td>0.0</td>\n",
       "      <td>53065.0</td>\n",
       "      <td>6</td>\n",
       "      <td>73645</td>\n",
       "    </tr>\n",
       "    <tr>\n",
       "      <th>84</th>\n",
       "      <td>2404:6800:4002:82e::200e</td>\n",
       "      <td>443.0</td>\n",
       "      <td>0.0</td>\n",
       "      <td>17</td>\n",
       "      <td>109515</td>\n",
       "    </tr>\n",
       "    <tr>\n",
       "      <th>85</th>\n",
       "      <td>2405:8a00:14:8::9</td>\n",
       "      <td>443.0</td>\n",
       "      <td>0.0</td>\n",
       "      <td>17</td>\n",
       "      <td>7968159</td>\n",
       "    </tr>\n",
       "    <tr>\n",
       "      <th>75</th>\n",
       "      <td>2403:0:400:56::203</td>\n",
       "      <td>0.0</td>\n",
       "      <td>443.0</td>\n",
       "      <td>6</td>\n",
       "      <td>12058295</td>\n",
       "    </tr>\n",
       "    <tr>\n",
       "      <th>54</th>\n",
       "      <td>2001:df4:e000:3fc5:fdd4:f96e:e3f2:c357</td>\n",
       "      <td>0.0</td>\n",
       "      <td>53126.0</td>\n",
       "      <td>6</td>\n",
       "      <td>18027429</td>\n",
       "    </tr>\n",
       "  </tbody>\n",
       "</table>\n",
       "<p>94 rows × 5 columns</p>\n",
       "</div>"
      ],
      "text/plain": [
       "                                    src_ip  udp_sport  tcp_sport  proto  \\\n",
       "1                           10.194.128.144        0.0    51742.0      6   \n",
       "2                           10.194.128.144        0.0    51743.0      6   \n",
       "3                           10.194.128.144        0.0    51744.0      6   \n",
       "4                           10.194.128.144        0.0    51745.0      6   \n",
       "6                           10.194.128.144        0.0    51750.0      6   \n",
       "..                                     ...        ...        ...    ...   \n",
       "53  2001:df4:e000:3fc5:fdd4:f96e:e3f2:c357        0.0    53065.0      6   \n",
       "84                2404:6800:4002:82e::200e      443.0        0.0     17   \n",
       "85                       2405:8a00:14:8::9      443.0        0.0     17   \n",
       "75                      2403:0:400:56::203        0.0      443.0      6   \n",
       "54  2001:df4:e000:3fc5:fdd4:f96e:e3f2:c357        0.0    53126.0      6   \n",
       "\n",
       "    total_bytes  \n",
       "1            40  \n",
       "2            40  \n",
       "3            40  \n",
       "4            40  \n",
       "6            40  \n",
       "..          ...  \n",
       "53        73645  \n",
       "84       109515  \n",
       "85      7968159  \n",
       "75     12058295  \n",
       "54     18027429  \n",
       "\n",
       "[94 rows x 5 columns]"
      ]
     },
     "execution_count": 38,
     "metadata": {},
     "output_type": "execute_result"
    }
   ],
   "source": [
    "df = df.fillna(0)\n",
    "df_srcip_grp = df.groupby([\"src_ip\", \"udp_sport\", \"tcp_sport\", \"proto\"]).agg({\"len\": \"sum\"}).reset_index().rename(columns={\"len\": \"total_bytes\"})\n",
    "df_srcip_grp.sort_values(by=\"total_bytes\")"
   ]
  },
  {
   "cell_type": "code",
   "execution_count": null,
   "metadata": {},
   "outputs": [],
   "source": [
    "# df_ip1 "
   ]
  },
  {
   "cell_type": "markdown",
   "metadata": {},
   "source": [
    "## Speedtest data analysis"
   ]
  },
  {
   "cell_type": "markdown",
   "metadata": {},
   "source": [
    "#### How does a speed test work?\n",
    "\n",
    "Measure the available bandwidth between the client and server by sending as much traffic as possible (“saturating” the link) and\n",
    "computing a throughput value according to the number of bytes transferred over some sending\n",
    "window."
   ]
  },
  {
   "cell_type": "markdown",
   "metadata": {},
   "source": [
    "## How to find the speed test server?"
   ]
  },
  {
   "cell_type": "code",
   "execution_count": 39,
   "metadata": {},
   "outputs": [
    {
     "data": {
      "text/html": [
       "<div>\n",
       "<style scoped>\n",
       "    .dataframe tbody tr th:only-of-type {\n",
       "        vertical-align: middle;\n",
       "    }\n",
       "\n",
       "    .dataframe tbody tr th {\n",
       "        vertical-align: top;\n",
       "    }\n",
       "\n",
       "    .dataframe thead th {\n",
       "        text-align: right;\n",
       "    }\n",
       "</style>\n",
       "<table border=\"1\" class=\"dataframe\">\n",
       "  <thead>\n",
       "    <tr style=\"text-align: right;\">\n",
       "      <th></th>\n",
       "      <th>src_ip</th>\n",
       "      <th>udp_sport</th>\n",
       "      <th>tcp_sport</th>\n",
       "      <th>proto</th>\n",
       "      <th>total_bytes</th>\n",
       "    </tr>\n",
       "  </thead>\n",
       "  <tbody>\n",
       "    <tr>\n",
       "      <th>54</th>\n",
       "      <td>2001:df4:e000:3fc5:fdd4:f96e:e3f2:c357</td>\n",
       "      <td>0.0</td>\n",
       "      <td>53126.0</td>\n",
       "      <td>6</td>\n",
       "      <td>18027429</td>\n",
       "    </tr>\n",
       "    <tr>\n",
       "      <th>75</th>\n",
       "      <td>2403:0:400:56::203</td>\n",
       "      <td>0.0</td>\n",
       "      <td>443.0</td>\n",
       "      <td>6</td>\n",
       "      <td>12058295</td>\n",
       "    </tr>\n",
       "    <tr>\n",
       "      <th>85</th>\n",
       "      <td>2405:8a00:14:8::9</td>\n",
       "      <td>443.0</td>\n",
       "      <td>0.0</td>\n",
       "      <td>17</td>\n",
       "      <td>7968159</td>\n",
       "    </tr>\n",
       "    <tr>\n",
       "      <th>84</th>\n",
       "      <td>2404:6800:4002:82e::200e</td>\n",
       "      <td>443.0</td>\n",
       "      <td>0.0</td>\n",
       "      <td>17</td>\n",
       "      <td>109515</td>\n",
       "    </tr>\n",
       "    <tr>\n",
       "      <th>53</th>\n",
       "      <td>2001:df4:e000:3fc5:fdd4:f96e:e3f2:c357</td>\n",
       "      <td>0.0</td>\n",
       "      <td>53065.0</td>\n",
       "      <td>6</td>\n",
       "      <td>73645</td>\n",
       "    </tr>\n",
       "    <tr>\n",
       "      <th>78</th>\n",
       "      <td>2404:6800:4002:815::2016</td>\n",
       "      <td>443.0</td>\n",
       "      <td>0.0</td>\n",
       "      <td>17</td>\n",
       "      <td>54862</td>\n",
       "    </tr>\n",
       "    <tr>\n",
       "      <th>61</th>\n",
       "      <td>2001:df4:e000:3fc5:fdd4:f96e:e3f2:c357</td>\n",
       "      <td>56041.0</td>\n",
       "      <td>0.0</td>\n",
       "      <td>17</td>\n",
       "      <td>47408</td>\n",
       "    </tr>\n",
       "    <tr>\n",
       "      <th>59</th>\n",
       "      <td>2001:df4:e000:3fc5:fdd4:f96e:e3f2:c357</td>\n",
       "      <td>52047.0</td>\n",
       "      <td>0.0</td>\n",
       "      <td>17</td>\n",
       "      <td>34055</td>\n",
       "    </tr>\n",
       "    <tr>\n",
       "      <th>93</th>\n",
       "      <td>54.162.244.80</td>\n",
       "      <td>0.0</td>\n",
       "      <td>443.0</td>\n",
       "      <td>6</td>\n",
       "      <td>13755</td>\n",
       "    </tr>\n",
       "    <tr>\n",
       "      <th>90</th>\n",
       "      <td>34.206.247.180</td>\n",
       "      <td>0.0</td>\n",
       "      <td>443.0</td>\n",
       "      <td>6</td>\n",
       "      <td>9596</td>\n",
       "    </tr>\n",
       "  </tbody>\n",
       "</table>\n",
       "</div>"
      ],
      "text/plain": [
       "                                    src_ip  udp_sport  tcp_sport  proto  \\\n",
       "54  2001:df4:e000:3fc5:fdd4:f96e:e3f2:c357        0.0    53126.0      6   \n",
       "75                      2403:0:400:56::203        0.0      443.0      6   \n",
       "85                       2405:8a00:14:8::9      443.0        0.0     17   \n",
       "84                2404:6800:4002:82e::200e      443.0        0.0     17   \n",
       "53  2001:df4:e000:3fc5:fdd4:f96e:e3f2:c357        0.0    53065.0      6   \n",
       "78                2404:6800:4002:815::2016      443.0        0.0     17   \n",
       "61  2001:df4:e000:3fc5:fdd4:f96e:e3f2:c357    56041.0        0.0     17   \n",
       "59  2001:df4:e000:3fc5:fdd4:f96e:e3f2:c357    52047.0        0.0     17   \n",
       "93                           54.162.244.80        0.0      443.0      6   \n",
       "90                          34.206.247.180        0.0      443.0      6   \n",
       "\n",
       "    total_bytes  \n",
       "54     18027429  \n",
       "75     12058295  \n",
       "85      7968159  \n",
       "84       109515  \n",
       "53        73645  \n",
       "78        54862  \n",
       "61        47408  \n",
       "59        34055  \n",
       "93        13755  \n",
       "90         9596  "
      ]
     },
     "execution_count": 39,
     "metadata": {},
     "output_type": "execute_result"
    }
   ],
   "source": [
    "df_srcip_grp.sort_values(by=\"total_bytes\", ascending=False).head(10)"
   ]
  },
  {
   "cell_type": "markdown",
   "metadata": {},
   "source": [
    "The IP addr. **2001:df4:e000:3fc5:fdd4:f96e:e3f2:c357** is the one with the highest traffic volume, i.e., a strong candidate for the speed test **server**."
   ]
  },
  {
   "cell_type": "code",
   "execution_count": 42,
   "metadata": {},
   "outputs": [],
   "source": [
    "# Function to determine if traffic is incoming\n",
    "def is_incoming(x):\n",
    "    return x[\"src_ip\"] == \"\t2001:df4:e000:3fc5:fdd4:f96e:e3f2:c357\"\n",
    "\n",
    "# Add 'inbound' column to the DataFrame\n",
    "df[\"inbound\"] = df.apply(is_incoming, axis=1)"
   ]
  },
  {
   "cell_type": "code",
   "execution_count": 33,
   "metadata": {},
   "outputs": [],
   "source": [
    "# Selecting server IP and client IP based on #communication patterns observed above (top 2 IPs from src_ip & dst_ip)\n",
    "# server_ip = \"2001:df4:e000:3fc5:fdd4:f96e:e3f2:c357\"\n",
    "# client_ip = \"2403:0:400:56::203\"\n",
    "\n",
    "server_ip = \"2403:0:400:56::203\"\n",
    "client_ip = \"2001:df4:e000:3fc5:fdd4:f96e:e3f2:c357\""
   ]
  },
  {
   "cell_type": "code",
   "execution_count": 34,
   "metadata": {},
   "outputs": [],
   "source": [
    "# Filter upload packets (client -> server)\n",
    "upload_packets = df[(df['src_ip'] == client_ip) & (df['dst_ip'] == server_ip)]"
   ]
  },
  {
   "cell_type": "code",
   "execution_count": 35,
   "metadata": {},
   "outputs": [],
   "source": [
    "# Filter download packets (server -> client)\n",
    "download_packets = df[(df['src_ip'] == server_ip) & (df['dst_ip'] == client_ip)]"
   ]
  },
  {
   "cell_type": "code",
   "execution_count": 36,
   "metadata": {},
   "outputs": [],
   "source": [
    "# Compute upload speed\n",
    "if not upload_packets.empty:\n",
    "    upload_start_time = upload_packets['ts'].min()\n",
    "    upload_end_time = upload_packets['ts'].max()\n",
    "    upload_duration = upload_end_time - upload_start_time\n",
    "    \n",
    "    upload_data = upload_packets['len'].sum() * 8  # Convert bytes to bits\n",
    "    upload_speed = (upload_data / upload_duration) / 1e6  # Mbps\n",
    "else:\n",
    "    upload_speed = 0\n"
   ]
  },
  {
   "cell_type": "code",
   "execution_count": 37,
   "metadata": {},
   "outputs": [],
   "source": [
    "# Compute download speed\n",
    "if not download_packets.empty:\n",
    "    download_start_time = download_packets['ts'].min()\n",
    "    download_end_time = download_packets['ts'].max()\n",
    "    download_duration = download_end_time - download_start_time\n",
    "    \n",
    "    download_data = download_packets['len'].sum() * 8  # Convert bytes to bits\n",
    "    download_speed = (download_data / download_duration) / 1e6  # Mbps\n",
    "else:\n",
    "    download_speed = 0"
   ]
  },
  {
   "cell_type": "code",
   "execution_count": 38,
   "metadata": {},
   "outputs": [
    {
     "name": "stdout",
     "output_type": "stream",
     "text": [
      "Server IP: 2403:0:400:56::203\n",
      "Upload Speed: 5.99 Mbps\n",
      "Download Speed: 3.99 Mbps\n"
     ]
    }
   ],
   "source": [
    "# Display results\n",
    "print(f\"Server IP: {server_ip}\")\n",
    "print(f\"Upload Speed: {upload_speed:.2f} Mbps\")\n",
    "print(f\"Download Speed: {download_speed:.2f} Mbps\")"
   ]
  },
  {
   "cell_type": "code",
   "execution_count": 39,
   "metadata": {},
   "outputs": [
    {
     "data": {
      "image/png": "[encoded data removed]",
      "text/plain": [
       "<Figure size 1000x500 with 1 Axes>"
      ]
     },
     "metadata": {},
     "output_type": "display_data"
    }
   ],
   "source": [
    "# Prepare upload data for plotting\n",
    "if not upload_packets.empty:\n",
    "    upload_plot_data = upload_packets.groupby('ts')['len'].sum().reset_index()\n",
    "    upload_plot_data['len'] = upload_plot_data['len'] / 1024  # Convert bytes to kilobytes (optional)\n",
    "else:\n",
    "    upload_plot_data = pd.DataFrame(columns=['ts', 'len'])\n",
    "\n",
    "# Plot Upload Bytes Over Time\n",
    "plt.figure(figsize=(10, 5))\n",
    "plt.plot(upload_plot_data['ts'], upload_plot_data['len'], label='Upload Bytes', color='blue')\n",
    "plt.xlabel('Timestamp')\n",
    "plt.ylabel('Bytes (KB)')\n",
    "plt.title('Upload Bytes Over Time')\n",
    "plt.legend()\n",
    "plt.grid(True)\n",
    "plt.show()"
   ]
  },
  {
   "cell_type": "code",
   "execution_count": 40,
   "metadata": {},
   "outputs": [
    {
     "data": {
      "image/png": "[encoded data removed]",
      "text/plain": [
       "<Figure size 1000x500 with 1 Axes>"
      ]
     },
     "metadata": {},
     "output_type": "display_data"
    }
   ],
   "source": [
    "# Prepare download data for plotting\n",
    "if not download_packets.empty:\n",
    "    download_plot_data = download_packets.groupby('ts')['len'].sum().reset_index()\n",
    "    download_plot_data['len'] = download_plot_data['len'] / 1024  # Convert bytes to kilobytes (optional)\n",
    "else:\n",
    "    download_plot_data = pd.DataFrame(columns=['ts', 'len'])\n",
    "\n",
    "# Plot Download Bytes Over Time\n",
    "plt.figure(figsize=(10, 5))\n",
    "plt.plot(download_plot_data['ts'], download_plot_data['len'], label='Download Bytes', color='green')\n",
    "plt.xlabel('Timestamp')\n",
    "plt.ylabel('Bytes (KB)')\n",
    "plt.title('Download Bytes Over Time')\n",
    "plt.legend()\n",
    "plt.grid(True)\n",
    "plt.show()"
   ]
  },
  {
   "cell_type": "code",
   "execution_count": null,
   "metadata": {},
   "outputs": [],
   "source": []
  }
 ],
 "metadata": {
  "kernelspec": {
   "display_name": "HSN",
   "language": "python",
   "name": "python3"
  },
  "language_info": {
   "codemirror_mode": {
    "name": "ipython",
    "version": 3
   },
   "file_extension": ".py",
   "mimetype": "text/x-python",
   "name": "python",
   "nbconvert_exporter": "python",
   "pygments_lexer": "ipython3",
   "version": "3.12.6"
  }
 },
 "nbformat": 4,
 "nbformat_minor": 4
}
